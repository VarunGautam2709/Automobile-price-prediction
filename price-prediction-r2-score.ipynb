{
 "cells": [
  {
   "cell_type": "markdown",
   "id": "metropolitan-signature",
   "metadata": {
    "papermill": {
     "duration": 0.055661,
     "end_time": "2021-05-06T07:18:59.858151",
     "exception": false,
     "start_time": "2021-05-06T07:18:59.802490",
     "status": "completed"
    },
    "tags": []
   },
   "source": [
    "# Task Details 📝\n",
    "Predict the price of the car based on the features in the dataset.\n",
    "\n",
    "# Evaluation ✔️\n",
    "A model with good r2 score"
   ]
  },
  {
   "cell_type": "markdown",
   "id": "funny-terrorism",
   "metadata": {
    "papermill": {
     "duration": 0.055401,
     "end_time": "2021-05-06T07:18:59.969428",
     "exception": false,
     "start_time": "2021-05-06T07:18:59.914027",
     "status": "completed"
    },
    "tags": []
   },
   "source": [
    "# **1. Importing Necessary Libraries** 📚"
   ]
  },
  {
   "cell_type": "code",
   "execution_count": 1,
   "id": "defined-junction",
   "metadata": {
    "execution": {
     "iopub.execute_input": "2021-05-06T07:19:00.087071Z",
     "iopub.status.busy": "2021-05-06T07:19:00.086209Z",
     "iopub.status.idle": "2021-05-06T07:19:01.234838Z",
     "shell.execute_reply": "2021-05-06T07:19:01.235364Z"
    },
    "papermill": {
     "duration": 1.210183,
     "end_time": "2021-05-06T07:19:01.235546",
     "exception": false,
     "start_time": "2021-05-06T07:19:00.025363",
     "status": "completed"
    },
    "tags": []
   },
   "outputs": [],
   "source": [
    "import pandas as pd\n",
    "import numpy as np\n",
    "import matplotlib.pyplot as plt\n",
    "import seaborn as sns\n",
    "\n",
    "from sklearn.linear_model import LinearRegression\n",
    "from sklearn.ensemble import GradientBoostingRegressor\n",
    "from sklearn.linear_model import Ridge\n",
    "from sklearn.linear_model import Lasso\n",
    "from sklearn.ensemble import RandomForestRegressor\n",
    "\n",
    "from sklearn.model_selection import train_test_split\n",
    "from sklearn.metrics import r2_score\n",
    "from sklearn.model_selection import GridSearchCV"
   ]
  },
  {
   "cell_type": "markdown",
   "id": "atomic-conjunction",
   "metadata": {
    "papermill": {
     "duration": 0.055236,
     "end_time": "2021-05-06T07:19:01.346827",
     "exception": false,
     "start_time": "2021-05-06T07:19:01.291591",
     "status": "completed"
    },
    "tags": []
   },
   "source": [
    "# **2. Loading Automobile Dataset** 📊"
   ]
  },
  {
   "cell_type": "code",
   "execution_count": 2,
   "id": "nutritional-gather",
   "metadata": {
    "execution": {
     "iopub.execute_input": "2021-05-06T07:19:01.462886Z",
     "iopub.status.busy": "2021-05-06T07:19:01.461931Z",
     "iopub.status.idle": "2021-05-06T07:19:01.522568Z",
     "shell.execute_reply": "2021-05-06T07:19:01.523193Z"
    },
    "papermill": {
     "duration": 0.120897,
     "end_time": "2021-05-06T07:19:01.523365",
     "exception": false,
     "start_time": "2021-05-06T07:19:01.402468",
     "status": "completed"
    },
    "tags": []
   },
   "outputs": [
    {
     "data": {
      "text/html": [
       "<div>\n",
       "<style scoped>\n",
       "    .dataframe tbody tr th:only-of-type {\n",
       "        vertical-align: middle;\n",
       "    }\n",
       "\n",
       "    .dataframe tbody tr th {\n",
       "        vertical-align: top;\n",
       "    }\n",
       "\n",
       "    .dataframe thead th {\n",
       "        text-align: right;\n",
       "    }\n",
       "</style>\n",
       "<table border=\"1\" class=\"dataframe\">\n",
       "  <thead>\n",
       "    <tr style=\"text-align: right;\">\n",
       "      <th></th>\n",
       "      <th>symboling</th>\n",
       "      <th>normalized-losses</th>\n",
       "      <th>make</th>\n",
       "      <th>fuel-type</th>\n",
       "      <th>aspiration</th>\n",
       "      <th>num-of-doors</th>\n",
       "      <th>body-style</th>\n",
       "      <th>drive-wheels</th>\n",
       "      <th>engine-location</th>\n",
       "      <th>wheel-base</th>\n",
       "      <th>...</th>\n",
       "      <th>engine-size</th>\n",
       "      <th>fuel-system</th>\n",
       "      <th>bore</th>\n",
       "      <th>stroke</th>\n",
       "      <th>compression-ratio</th>\n",
       "      <th>horsepower</th>\n",
       "      <th>peak-rpm</th>\n",
       "      <th>city-mpg</th>\n",
       "      <th>highway-mpg</th>\n",
       "      <th>price</th>\n",
       "    </tr>\n",
       "  </thead>\n",
       "  <tbody>\n",
       "    <tr>\n",
       "      <th>0</th>\n",
       "      <td>3</td>\n",
       "      <td>?</td>\n",
       "      <td>alfa-romero</td>\n",
       "      <td>gas</td>\n",
       "      <td>std</td>\n",
       "      <td>two</td>\n",
       "      <td>convertible</td>\n",
       "      <td>rwd</td>\n",
       "      <td>front</td>\n",
       "      <td>88.6</td>\n",
       "      <td>...</td>\n",
       "      <td>130</td>\n",
       "      <td>mpfi</td>\n",
       "      <td>3.47</td>\n",
       "      <td>2.68</td>\n",
       "      <td>9.0</td>\n",
       "      <td>111</td>\n",
       "      <td>5000</td>\n",
       "      <td>21</td>\n",
       "      <td>27</td>\n",
       "      <td>13495</td>\n",
       "    </tr>\n",
       "    <tr>\n",
       "      <th>1</th>\n",
       "      <td>3</td>\n",
       "      <td>?</td>\n",
       "      <td>alfa-romero</td>\n",
       "      <td>gas</td>\n",
       "      <td>std</td>\n",
       "      <td>two</td>\n",
       "      <td>convertible</td>\n",
       "      <td>rwd</td>\n",
       "      <td>front</td>\n",
       "      <td>88.6</td>\n",
       "      <td>...</td>\n",
       "      <td>130</td>\n",
       "      <td>mpfi</td>\n",
       "      <td>3.47</td>\n",
       "      <td>2.68</td>\n",
       "      <td>9.0</td>\n",
       "      <td>111</td>\n",
       "      <td>5000</td>\n",
       "      <td>21</td>\n",
       "      <td>27</td>\n",
       "      <td>16500</td>\n",
       "    </tr>\n",
       "    <tr>\n",
       "      <th>2</th>\n",
       "      <td>1</td>\n",
       "      <td>?</td>\n",
       "      <td>alfa-romero</td>\n",
       "      <td>gas</td>\n",
       "      <td>std</td>\n",
       "      <td>two</td>\n",
       "      <td>hatchback</td>\n",
       "      <td>rwd</td>\n",
       "      <td>front</td>\n",
       "      <td>94.5</td>\n",
       "      <td>...</td>\n",
       "      <td>152</td>\n",
       "      <td>mpfi</td>\n",
       "      <td>2.68</td>\n",
       "      <td>3.47</td>\n",
       "      <td>9.0</td>\n",
       "      <td>154</td>\n",
       "      <td>5000</td>\n",
       "      <td>19</td>\n",
       "      <td>26</td>\n",
       "      <td>16500</td>\n",
       "    </tr>\n",
       "    <tr>\n",
       "      <th>3</th>\n",
       "      <td>2</td>\n",
       "      <td>164</td>\n",
       "      <td>audi</td>\n",
       "      <td>gas</td>\n",
       "      <td>std</td>\n",
       "      <td>four</td>\n",
       "      <td>sedan</td>\n",
       "      <td>fwd</td>\n",
       "      <td>front</td>\n",
       "      <td>99.8</td>\n",
       "      <td>...</td>\n",
       "      <td>109</td>\n",
       "      <td>mpfi</td>\n",
       "      <td>3.19</td>\n",
       "      <td>3.4</td>\n",
       "      <td>10.0</td>\n",
       "      <td>102</td>\n",
       "      <td>5500</td>\n",
       "      <td>24</td>\n",
       "      <td>30</td>\n",
       "      <td>13950</td>\n",
       "    </tr>\n",
       "    <tr>\n",
       "      <th>4</th>\n",
       "      <td>2</td>\n",
       "      <td>164</td>\n",
       "      <td>audi</td>\n",
       "      <td>gas</td>\n",
       "      <td>std</td>\n",
       "      <td>four</td>\n",
       "      <td>sedan</td>\n",
       "      <td>4wd</td>\n",
       "      <td>front</td>\n",
       "      <td>99.4</td>\n",
       "      <td>...</td>\n",
       "      <td>136</td>\n",
       "      <td>mpfi</td>\n",
       "      <td>3.19</td>\n",
       "      <td>3.4</td>\n",
       "      <td>8.0</td>\n",
       "      <td>115</td>\n",
       "      <td>5500</td>\n",
       "      <td>18</td>\n",
       "      <td>22</td>\n",
       "      <td>17450</td>\n",
       "    </tr>\n",
       "  </tbody>\n",
       "</table>\n",
       "<p>5 rows × 26 columns</p>\n",
       "</div>"
      ],
      "text/plain": [
       "   symboling normalized-losses         make fuel-type aspiration num-of-doors  \\\n",
       "0          3                 ?  alfa-romero       gas        std          two   \n",
       "1          3                 ?  alfa-romero       gas        std          two   \n",
       "2          1                 ?  alfa-romero       gas        std          two   \n",
       "3          2               164         audi       gas        std         four   \n",
       "4          2               164         audi       gas        std         four   \n",
       "\n",
       "    body-style drive-wheels engine-location  wheel-base  ...  engine-size  \\\n",
       "0  convertible          rwd           front        88.6  ...          130   \n",
       "1  convertible          rwd           front        88.6  ...          130   \n",
       "2    hatchback          rwd           front        94.5  ...          152   \n",
       "3        sedan          fwd           front        99.8  ...          109   \n",
       "4        sedan          4wd           front        99.4  ...          136   \n",
       "\n",
       "   fuel-system  bore  stroke compression-ratio horsepower  peak-rpm city-mpg  \\\n",
       "0         mpfi  3.47    2.68               9.0        111      5000       21   \n",
       "1         mpfi  3.47    2.68               9.0        111      5000       21   \n",
       "2         mpfi  2.68    3.47               9.0        154      5000       19   \n",
       "3         mpfi  3.19     3.4              10.0        102      5500       24   \n",
       "4         mpfi  3.19     3.4               8.0        115      5500       18   \n",
       "\n",
       "  highway-mpg  price  \n",
       "0          27  13495  \n",
       "1          27  16500  \n",
       "2          26  16500  \n",
       "3          30  13950  \n",
       "4          22  17450  \n",
       "\n",
       "[5 rows x 26 columns]"
      ]
     },
     "execution_count": 2,
     "metadata": {},
     "output_type": "execute_result"
    }
   ],
   "source": [
    "df = pd.read_csv('Automobile_data.csv')\n",
    "df.head()"
   ]
  },
  {
   "cell_type": "markdown",
   "id": "round-trial",
   "metadata": {
    "papermill": {
     "duration": 0.056288,
     "end_time": "2021-05-06T07:19:01.636156",
     "exception": false,
     "start_time": "2021-05-06T07:19:01.579868",
     "status": "completed"
    },
    "tags": []
   },
   "source": [
    "## Observations:\n",
    "Now we start analysing our dataset but before that we need to do some data preprocessing in order to handle missing values and outliers. As you can see there are some '?' in normalized-losses column. "
   ]
  },
  {
   "cell_type": "markdown",
   "id": "disturbed-office",
   "metadata": {
    "papermill": {
     "duration": 0.067032,
     "end_time": "2021-05-06T07:19:01.773040",
     "exception": false,
     "start_time": "2021-05-06T07:19:01.706008",
     "status": "completed"
    },
    "tags": []
   },
   "source": [
    "# **3. Data Preprocessing (Cleaning) 🧹**"
   ]
  },
  {
   "cell_type": "markdown",
   "id": "blocked-violin",
   "metadata": {
    "papermill": {
     "duration": 0.056334,
     "end_time": "2021-05-06T07:19:01.886798",
     "exception": false,
     "start_time": "2021-05-06T07:19:01.830464",
     "status": "completed"
    },
    "tags": []
   },
   "source": [
    "## (a) Checking for missing values"
   ]
  },
  {
   "cell_type": "code",
   "execution_count": 3,
   "id": "minute-token",
   "metadata": {
    "execution": {
     "iopub.execute_input": "2021-05-06T07:19:02.004507Z",
     "iopub.status.busy": "2021-05-06T07:19:02.003546Z",
     "iopub.status.idle": "2021-05-06T07:19:02.013228Z",
     "shell.execute_reply": "2021-05-06T07:19:02.012674Z"
    },
    "papermill": {
     "duration": 0.069551,
     "end_time": "2021-05-06T07:19:02.013453",
     "exception": false,
     "start_time": "2021-05-06T07:19:01.943902",
     "status": "completed"
    },
    "tags": []
   },
   "outputs": [
    {
     "data": {
      "text/plain": [
       "symboling            0\n",
       "normalized-losses    0\n",
       "make                 0\n",
       "fuel-type            0\n",
       "aspiration           0\n",
       "num-of-doors         0\n",
       "body-style           0\n",
       "drive-wheels         0\n",
       "engine-location      0\n",
       "wheel-base           0\n",
       "length               0\n",
       "width                0\n",
       "height               0\n",
       "curb-weight          0\n",
       "engine-type          0\n",
       "num-of-cylinders     0\n",
       "engine-size          0\n",
       "fuel-system          0\n",
       "bore                 0\n",
       "stroke               0\n",
       "compression-ratio    0\n",
       "horsepower           0\n",
       "peak-rpm             0\n",
       "city-mpg             0\n",
       "highway-mpg          0\n",
       "price                0\n",
       "dtype: int64"
      ]
     },
     "execution_count": 3,
     "metadata": {},
     "output_type": "execute_result"
    }
   ],
   "source": [
    "df.isnull().sum(axis=0)"
   ]
  },
  {
   "cell_type": "markdown",
   "id": "exact-louisville",
   "metadata": {
    "papermill": {
     "duration": 0.057321,
     "end_time": "2021-05-06T07:19:02.127635",
     "exception": false,
     "start_time": "2021-05-06T07:19:02.070314",
     "status": "completed"
    },
    "tags": []
   },
   "source": [
    "**No missing values.**"
   ]
  },
  {
   "cell_type": "code",
   "execution_count": 4,
   "id": "framed-eligibility",
   "metadata": {
    "execution": {
     "iopub.execute_input": "2021-05-06T07:19:02.265249Z",
     "iopub.status.busy": "2021-05-06T07:19:02.264541Z",
     "iopub.status.idle": "2021-05-06T07:19:02.267783Z",
     "shell.execute_reply": "2021-05-06T07:19:02.268485Z"
    },
    "papermill": {
     "duration": 0.084058,
     "end_time": "2021-05-06T07:19:02.268712",
     "exception": false,
     "start_time": "2021-05-06T07:19:02.184654",
     "status": "completed"
    },
    "tags": []
   },
   "outputs": [
    {
     "name": "stdout",
     "output_type": "stream",
     "text": [
      "<class 'pandas.core.frame.DataFrame'>\n",
      "RangeIndex: 205 entries, 0 to 204\n",
      "Data columns (total 26 columns):\n",
      " #   Column             Non-Null Count  Dtype  \n",
      "---  ------             --------------  -----  \n",
      " 0   symboling          205 non-null    int64  \n",
      " 1   normalized-losses  205 non-null    object \n",
      " 2   make               205 non-null    object \n",
      " 3   fuel-type          205 non-null    object \n",
      " 4   aspiration         205 non-null    object \n",
      " 5   num-of-doors       205 non-null    object \n",
      " 6   body-style         205 non-null    object \n",
      " 7   drive-wheels       205 non-null    object \n",
      " 8   engine-location    205 non-null    object \n",
      " 9   wheel-base         205 non-null    float64\n",
      " 10  length             205 non-null    float64\n",
      " 11  width              205 non-null    float64\n",
      " 12  height             205 non-null    float64\n",
      " 13  curb-weight        205 non-null    int64  \n",
      " 14  engine-type        205 non-null    object \n",
      " 15  num-of-cylinders   205 non-null    object \n",
      " 16  engine-size        205 non-null    int64  \n",
      " 17  fuel-system        205 non-null    object \n",
      " 18  bore               205 non-null    object \n",
      " 19  stroke             205 non-null    object \n",
      " 20  compression-ratio  205 non-null    float64\n",
      " 21  horsepower         205 non-null    object \n",
      " 22  peak-rpm           205 non-null    object \n",
      " 23  city-mpg           205 non-null    int64  \n",
      " 24  highway-mpg        205 non-null    int64  \n",
      " 25  price              205 non-null    object \n",
      "dtypes: float64(5), int64(5), object(16)\n",
      "memory usage: 41.8+ KB\n"
     ]
    }
   ],
   "source": [
    "df.info()"
   ]
  },
  {
   "cell_type": "markdown",
   "id": "medieval-huntington",
   "metadata": {
    "papermill": {
     "duration": 0.057422,
     "end_time": "2021-05-06T07:19:02.385897",
     "exception": false,
     "start_time": "2021-05-06T07:19:02.328475",
     "status": "completed"
    },
    "tags": []
   },
   "source": [
    "**Observations:**\n",
    "* All columns have 205 non null entries but as we saw in head entries '?' are present which are actually missing values only.\n",
    "* Columns with numerical values are of object type. For e.g normalized-losses, bore, stroke, horsepower, peak-rpm, price."
   ]
  },
  {
   "cell_type": "markdown",
   "id": "cheap-brunei",
   "metadata": {
    "papermill": {
     "duration": 0.058063,
     "end_time": "2021-05-06T07:19:02.502661",
     "exception": false,
     "start_time": "2021-05-06T07:19:02.444598",
     "status": "completed"
    },
    "tags": []
   },
   "source": [
    "**Checking total entries with '?' in each column**"
   ]
  },
  {
   "cell_type": "code",
   "execution_count": 5,
   "id": "insured-meter",
   "metadata": {
    "execution": {
     "iopub.execute_input": "2021-05-06T07:19:02.635066Z",
     "iopub.status.busy": "2021-05-06T07:19:02.634355Z",
     "iopub.status.idle": "2021-05-06T07:19:02.638777Z",
     "shell.execute_reply": "2021-05-06T07:19:02.638242Z"
    },
    "papermill": {
     "duration": 0.077213,
     "end_time": "2021-05-06T07:19:02.638914",
     "exception": false,
     "start_time": "2021-05-06T07:19:02.561701",
     "status": "completed"
    },
    "scrolled": true,
    "tags": []
   },
   "outputs": [
    {
     "name": "stdout",
     "output_type": "stream",
     "text": [
      "normalized-losses = 41\n",
      "num-of-doors = 2\n",
      "bore = 4\n",
      "stroke = 4\n",
      "horsepower = 2\n",
      "peak-rpm = 2\n",
      "price = 4\n"
     ]
    },
    {
     "name": "stderr",
     "output_type": "stream",
     "text": [
      "<ipython-input-5-4feed932ae88>:2: FutureWarning: elementwise comparison failed; returning scalar instead, but in the future will perform elementwise comparison\n",
      "  if('?' in df[col].values):\n"
     ]
    }
   ],
   "source": [
    "for col in df.columns:\n",
    "    if('?' in df[col].values):\n",
    "        print(col + \" = \" + str(len(df[df[col]=='?'])))"
   ]
  },
  {
   "cell_type": "markdown",
   "id": "vertical-museum",
   "metadata": {
    "papermill": {
     "duration": 0.058125,
     "end_time": "2021-05-06T07:19:02.756266",
     "exception": false,
     "start_time": "2021-05-06T07:19:02.698141",
     "status": "completed"
    },
    "tags": []
   },
   "source": [
    "**Observations:**\n",
    "* There are 41 '?' in normalized losses column\n",
    "* Others have 2-4 entries with '?'.\n",
    "\n",
    "**To handle**\n",
    "* We will drop '?' entries of price column & num-of-doors column.\n",
    "* We will replace '?' with mean value for every other column."
   ]
  },
  {
   "cell_type": "markdown",
   "id": "sitting-entity",
   "metadata": {
    "papermill": {
     "duration": 0.059003,
     "end_time": "2021-05-06T07:19:02.873818",
     "exception": false,
     "start_time": "2021-05-06T07:19:02.814815",
     "status": "completed"
    },
    "tags": []
   },
   "source": [
    "## (b) Handling Missing Values"
   ]
  },
  {
   "cell_type": "markdown",
   "id": "vocal-buffer",
   "metadata": {
    "papermill": {
     "duration": 0.060496,
     "end_time": "2021-05-06T07:19:02.993657",
     "exception": false,
     "start_time": "2021-05-06T07:19:02.933161",
     "status": "completed"
    },
    "tags": []
   },
   "source": [
    "**Removing '?' and changing data type**"
   ]
  },
  {
   "cell_type": "code",
   "execution_count": 6,
   "id": "disciplinary-istanbul",
   "metadata": {
    "execution": {
     "iopub.execute_input": "2021-05-06T07:19:03.131244Z",
     "iopub.status.busy": "2021-05-06T07:19:03.130368Z",
     "iopub.status.idle": "2021-05-06T07:19:03.134110Z",
     "shell.execute_reply": "2021-05-06T07:19:03.134578Z"
    },
    "papermill": {
     "duration": 0.082771,
     "end_time": "2021-05-06T07:19:03.134739",
     "exception": false,
     "start_time": "2021-05-06T07:19:03.051968",
     "status": "completed"
    },
    "tags": []
   },
   "outputs": [
    {
     "name": "stdout",
     "output_type": "stream",
     "text": [
      "<class 'pandas.core.frame.DataFrame'>\n",
      "Int64Index: 199 entries, 0 to 204\n",
      "Data columns (total 26 columns):\n",
      " #   Column             Non-Null Count  Dtype  \n",
      "---  ------             --------------  -----  \n",
      " 0   symboling          199 non-null    int64  \n",
      " 1   normalized-losses  199 non-null    object \n",
      " 2   make               199 non-null    object \n",
      " 3   fuel-type          199 non-null    object \n",
      " 4   aspiration         199 non-null    object \n",
      " 5   num-of-doors       199 non-null    object \n",
      " 6   body-style         199 non-null    object \n",
      " 7   drive-wheels       199 non-null    object \n",
      " 8   engine-location    199 non-null    object \n",
      " 9   wheel-base         199 non-null    float64\n",
      " 10  length             199 non-null    float64\n",
      " 11  width              199 non-null    float64\n",
      " 12  height             199 non-null    float64\n",
      " 13  curb-weight        199 non-null    int64  \n",
      " 14  engine-type        199 non-null    object \n",
      " 15  num-of-cylinders   199 non-null    object \n",
      " 16  engine-size        199 non-null    int64  \n",
      " 17  fuel-system        199 non-null    object \n",
      " 18  bore               199 non-null    object \n",
      " 19  stroke             199 non-null    object \n",
      " 20  compression-ratio  199 non-null    float64\n",
      " 21  horsepower         199 non-null    object \n",
      " 22  peak-rpm           199 non-null    object \n",
      " 23  city-mpg           199 non-null    int64  \n",
      " 24  highway-mpg        199 non-null    int64  \n",
      " 25  price              199 non-null    float64\n",
      "dtypes: float64(6), int64(5), object(15)\n",
      "memory usage: 42.0+ KB\n"
     ]
    }
   ],
   "source": [
    "# Converting price column type to numeric & Dropping '?' entries from price column \n",
    "df['price'] = df['price'].replace('?',np.nan)\n",
    "df['price'] = pd.to_numeric(df['price'])\n",
    "df = df[df['price'].notna()]\n",
    "\n",
    "# Dropping '?' from num-of-doors column \n",
    "df['num-of-doors'] = df['num-of-doors'].replace('?',np.nan)\n",
    "df = df[df['num-of-doors'].notna()]\n",
    "df.info()"
   ]
  },
  {
   "cell_type": "markdown",
   "id": "coastal-opposition",
   "metadata": {
    "papermill": {
     "duration": 0.059859,
     "end_time": "2021-05-06T07:19:03.253318",
     "exception": false,
     "start_time": "2021-05-06T07:19:03.193459",
     "status": "completed"
    },
    "tags": []
   },
   "source": [
    "\n",
    "Initially we had 205 entries, and now we have 199 entries because we've dropped 4 '?' entries from price column and 2 entries from num-of-doors column."
   ]
  },
  {
   "cell_type": "code",
   "execution_count": 7,
   "id": "premium-devices",
   "metadata": {
    "execution": {
     "iopub.execute_input": "2021-05-06T07:19:03.392214Z",
     "iopub.status.busy": "2021-05-06T07:19:03.388528Z",
     "iopub.status.idle": "2021-05-06T07:19:03.426867Z",
     "shell.execute_reply": "2021-05-06T07:19:03.425819Z"
    },
    "papermill": {
     "duration": 0.114472,
     "end_time": "2021-05-06T07:19:03.427024",
     "exception": false,
     "start_time": "2021-05-06T07:19:03.312552",
     "status": "completed"
    },
    "tags": []
   },
   "outputs": [
    {
     "data": {
      "text/html": [
       "<div>\n",
       "<style scoped>\n",
       "    .dataframe tbody tr th:only-of-type {\n",
       "        vertical-align: middle;\n",
       "    }\n",
       "\n",
       "    .dataframe tbody tr th {\n",
       "        vertical-align: top;\n",
       "    }\n",
       "\n",
       "    .dataframe thead th {\n",
       "        text-align: right;\n",
       "    }\n",
       "</style>\n",
       "<table border=\"1\" class=\"dataframe\">\n",
       "  <thead>\n",
       "    <tr style=\"text-align: right;\">\n",
       "      <th></th>\n",
       "      <th>symboling</th>\n",
       "      <th>normalized-losses</th>\n",
       "      <th>make</th>\n",
       "      <th>fuel-type</th>\n",
       "      <th>aspiration</th>\n",
       "      <th>num-of-doors</th>\n",
       "      <th>body-style</th>\n",
       "      <th>drive-wheels</th>\n",
       "      <th>engine-location</th>\n",
       "      <th>wheel-base</th>\n",
       "      <th>...</th>\n",
       "      <th>engine-size</th>\n",
       "      <th>fuel-system</th>\n",
       "      <th>bore</th>\n",
       "      <th>stroke</th>\n",
       "      <th>compression-ratio</th>\n",
       "      <th>horsepower</th>\n",
       "      <th>peak-rpm</th>\n",
       "      <th>city-mpg</th>\n",
       "      <th>highway-mpg</th>\n",
       "      <th>price</th>\n",
       "    </tr>\n",
       "  </thead>\n",
       "  <tbody>\n",
       "    <tr>\n",
       "      <th>0</th>\n",
       "      <td>3</td>\n",
       "      <td>121.840491</td>\n",
       "      <td>alfa-romero</td>\n",
       "      <td>gas</td>\n",
       "      <td>std</td>\n",
       "      <td>two</td>\n",
       "      <td>convertible</td>\n",
       "      <td>rwd</td>\n",
       "      <td>front</td>\n",
       "      <td>88.6</td>\n",
       "      <td>...</td>\n",
       "      <td>130</td>\n",
       "      <td>mpfi</td>\n",
       "      <td>3.47</td>\n",
       "      <td>2.68</td>\n",
       "      <td>9.0</td>\n",
       "      <td>111.0</td>\n",
       "      <td>5000.0</td>\n",
       "      <td>21</td>\n",
       "      <td>27</td>\n",
       "      <td>13495.0</td>\n",
       "    </tr>\n",
       "    <tr>\n",
       "      <th>1</th>\n",
       "      <td>3</td>\n",
       "      <td>121.840491</td>\n",
       "      <td>alfa-romero</td>\n",
       "      <td>gas</td>\n",
       "      <td>std</td>\n",
       "      <td>two</td>\n",
       "      <td>convertible</td>\n",
       "      <td>rwd</td>\n",
       "      <td>front</td>\n",
       "      <td>88.6</td>\n",
       "      <td>...</td>\n",
       "      <td>130</td>\n",
       "      <td>mpfi</td>\n",
       "      <td>3.47</td>\n",
       "      <td>2.68</td>\n",
       "      <td>9.0</td>\n",
       "      <td>111.0</td>\n",
       "      <td>5000.0</td>\n",
       "      <td>21</td>\n",
       "      <td>27</td>\n",
       "      <td>16500.0</td>\n",
       "    </tr>\n",
       "    <tr>\n",
       "      <th>2</th>\n",
       "      <td>1</td>\n",
       "      <td>121.840491</td>\n",
       "      <td>alfa-romero</td>\n",
       "      <td>gas</td>\n",
       "      <td>std</td>\n",
       "      <td>two</td>\n",
       "      <td>hatchback</td>\n",
       "      <td>rwd</td>\n",
       "      <td>front</td>\n",
       "      <td>94.5</td>\n",
       "      <td>...</td>\n",
       "      <td>152</td>\n",
       "      <td>mpfi</td>\n",
       "      <td>2.68</td>\n",
       "      <td>3.47</td>\n",
       "      <td>9.0</td>\n",
       "      <td>154.0</td>\n",
       "      <td>5000.0</td>\n",
       "      <td>19</td>\n",
       "      <td>26</td>\n",
       "      <td>16500.0</td>\n",
       "    </tr>\n",
       "    <tr>\n",
       "      <th>3</th>\n",
       "      <td>2</td>\n",
       "      <td>164.000000</td>\n",
       "      <td>audi</td>\n",
       "      <td>gas</td>\n",
       "      <td>std</td>\n",
       "      <td>four</td>\n",
       "      <td>sedan</td>\n",
       "      <td>fwd</td>\n",
       "      <td>front</td>\n",
       "      <td>99.8</td>\n",
       "      <td>...</td>\n",
       "      <td>109</td>\n",
       "      <td>mpfi</td>\n",
       "      <td>3.19</td>\n",
       "      <td>3.40</td>\n",
       "      <td>10.0</td>\n",
       "      <td>102.0</td>\n",
       "      <td>5500.0</td>\n",
       "      <td>24</td>\n",
       "      <td>30</td>\n",
       "      <td>13950.0</td>\n",
       "    </tr>\n",
       "    <tr>\n",
       "      <th>4</th>\n",
       "      <td>2</td>\n",
       "      <td>164.000000</td>\n",
       "      <td>audi</td>\n",
       "      <td>gas</td>\n",
       "      <td>std</td>\n",
       "      <td>four</td>\n",
       "      <td>sedan</td>\n",
       "      <td>4wd</td>\n",
       "      <td>front</td>\n",
       "      <td>99.4</td>\n",
       "      <td>...</td>\n",
       "      <td>136</td>\n",
       "      <td>mpfi</td>\n",
       "      <td>3.19</td>\n",
       "      <td>3.40</td>\n",
       "      <td>8.0</td>\n",
       "      <td>115.0</td>\n",
       "      <td>5500.0</td>\n",
       "      <td>18</td>\n",
       "      <td>22</td>\n",
       "      <td>17450.0</td>\n",
       "    </tr>\n",
       "    <tr>\n",
       "      <th>5</th>\n",
       "      <td>2</td>\n",
       "      <td>121.840491</td>\n",
       "      <td>audi</td>\n",
       "      <td>gas</td>\n",
       "      <td>std</td>\n",
       "      <td>two</td>\n",
       "      <td>sedan</td>\n",
       "      <td>fwd</td>\n",
       "      <td>front</td>\n",
       "      <td>99.8</td>\n",
       "      <td>...</td>\n",
       "      <td>136</td>\n",
       "      <td>mpfi</td>\n",
       "      <td>3.19</td>\n",
       "      <td>3.40</td>\n",
       "      <td>8.5</td>\n",
       "      <td>110.0</td>\n",
       "      <td>5500.0</td>\n",
       "      <td>19</td>\n",
       "      <td>25</td>\n",
       "      <td>15250.0</td>\n",
       "    </tr>\n",
       "    <tr>\n",
       "      <th>6</th>\n",
       "      <td>1</td>\n",
       "      <td>158.000000</td>\n",
       "      <td>audi</td>\n",
       "      <td>gas</td>\n",
       "      <td>std</td>\n",
       "      <td>four</td>\n",
       "      <td>sedan</td>\n",
       "      <td>fwd</td>\n",
       "      <td>front</td>\n",
       "      <td>105.8</td>\n",
       "      <td>...</td>\n",
       "      <td>136</td>\n",
       "      <td>mpfi</td>\n",
       "      <td>3.19</td>\n",
       "      <td>3.40</td>\n",
       "      <td>8.5</td>\n",
       "      <td>110.0</td>\n",
       "      <td>5500.0</td>\n",
       "      <td>19</td>\n",
       "      <td>25</td>\n",
       "      <td>17710.0</td>\n",
       "    </tr>\n",
       "    <tr>\n",
       "      <th>7</th>\n",
       "      <td>1</td>\n",
       "      <td>121.840491</td>\n",
       "      <td>audi</td>\n",
       "      <td>gas</td>\n",
       "      <td>std</td>\n",
       "      <td>four</td>\n",
       "      <td>wagon</td>\n",
       "      <td>fwd</td>\n",
       "      <td>front</td>\n",
       "      <td>105.8</td>\n",
       "      <td>...</td>\n",
       "      <td>136</td>\n",
       "      <td>mpfi</td>\n",
       "      <td>3.19</td>\n",
       "      <td>3.40</td>\n",
       "      <td>8.5</td>\n",
       "      <td>110.0</td>\n",
       "      <td>5500.0</td>\n",
       "      <td>19</td>\n",
       "      <td>25</td>\n",
       "      <td>18920.0</td>\n",
       "    </tr>\n",
       "    <tr>\n",
       "      <th>8</th>\n",
       "      <td>1</td>\n",
       "      <td>158.000000</td>\n",
       "      <td>audi</td>\n",
       "      <td>gas</td>\n",
       "      <td>turbo</td>\n",
       "      <td>four</td>\n",
       "      <td>sedan</td>\n",
       "      <td>fwd</td>\n",
       "      <td>front</td>\n",
       "      <td>105.8</td>\n",
       "      <td>...</td>\n",
       "      <td>131</td>\n",
       "      <td>mpfi</td>\n",
       "      <td>3.13</td>\n",
       "      <td>3.40</td>\n",
       "      <td>8.3</td>\n",
       "      <td>140.0</td>\n",
       "      <td>5500.0</td>\n",
       "      <td>17</td>\n",
       "      <td>20</td>\n",
       "      <td>23875.0</td>\n",
       "    </tr>\n",
       "    <tr>\n",
       "      <th>10</th>\n",
       "      <td>2</td>\n",
       "      <td>192.000000</td>\n",
       "      <td>bmw</td>\n",
       "      <td>gas</td>\n",
       "      <td>std</td>\n",
       "      <td>two</td>\n",
       "      <td>sedan</td>\n",
       "      <td>rwd</td>\n",
       "      <td>front</td>\n",
       "      <td>101.2</td>\n",
       "      <td>...</td>\n",
       "      <td>108</td>\n",
       "      <td>mpfi</td>\n",
       "      <td>3.50</td>\n",
       "      <td>2.80</td>\n",
       "      <td>8.8</td>\n",
       "      <td>101.0</td>\n",
       "      <td>5800.0</td>\n",
       "      <td>23</td>\n",
       "      <td>29</td>\n",
       "      <td>16430.0</td>\n",
       "    </tr>\n",
       "  </tbody>\n",
       "</table>\n",
       "<p>10 rows × 26 columns</p>\n",
       "</div>"
      ],
      "text/plain": [
       "    symboling  normalized-losses         make fuel-type aspiration  \\\n",
       "0           3         121.840491  alfa-romero       gas        std   \n",
       "1           3         121.840491  alfa-romero       gas        std   \n",
       "2           1         121.840491  alfa-romero       gas        std   \n",
       "3           2         164.000000         audi       gas        std   \n",
       "4           2         164.000000         audi       gas        std   \n",
       "5           2         121.840491         audi       gas        std   \n",
       "6           1         158.000000         audi       gas        std   \n",
       "7           1         121.840491         audi       gas        std   \n",
       "8           1         158.000000         audi       gas      turbo   \n",
       "10          2         192.000000          bmw       gas        std   \n",
       "\n",
       "   num-of-doors   body-style drive-wheels engine-location  wheel-base  ...  \\\n",
       "0           two  convertible          rwd           front        88.6  ...   \n",
       "1           two  convertible          rwd           front        88.6  ...   \n",
       "2           two    hatchback          rwd           front        94.5  ...   \n",
       "3          four        sedan          fwd           front        99.8  ...   \n",
       "4          four        sedan          4wd           front        99.4  ...   \n",
       "5           two        sedan          fwd           front        99.8  ...   \n",
       "6          four        sedan          fwd           front       105.8  ...   \n",
       "7          four        wagon          fwd           front       105.8  ...   \n",
       "8          four        sedan          fwd           front       105.8  ...   \n",
       "10          two        sedan          rwd           front       101.2  ...   \n",
       "\n",
       "    engine-size  fuel-system  bore  stroke compression-ratio horsepower  \\\n",
       "0           130         mpfi  3.47    2.68               9.0      111.0   \n",
       "1           130         mpfi  3.47    2.68               9.0      111.0   \n",
       "2           152         mpfi  2.68    3.47               9.0      154.0   \n",
       "3           109         mpfi  3.19    3.40              10.0      102.0   \n",
       "4           136         mpfi  3.19    3.40               8.0      115.0   \n",
       "5           136         mpfi  3.19    3.40               8.5      110.0   \n",
       "6           136         mpfi  3.19    3.40               8.5      110.0   \n",
       "7           136         mpfi  3.19    3.40               8.5      110.0   \n",
       "8           131         mpfi  3.13    3.40               8.3      140.0   \n",
       "10          108         mpfi  3.50    2.80               8.8      101.0   \n",
       "\n",
       "    peak-rpm city-mpg  highway-mpg    price  \n",
       "0     5000.0       21           27  13495.0  \n",
       "1     5000.0       21           27  16500.0  \n",
       "2     5000.0       19           26  16500.0  \n",
       "3     5500.0       24           30  13950.0  \n",
       "4     5500.0       18           22  17450.0  \n",
       "5     5500.0       19           25  15250.0  \n",
       "6     5500.0       19           25  17710.0  \n",
       "7     5500.0       19           25  18920.0  \n",
       "8     5500.0       17           20  23875.0  \n",
       "10    5800.0       23           29  16430.0  \n",
       "\n",
       "[10 rows x 26 columns]"
      ]
     },
     "execution_count": 7,
     "metadata": {},
     "output_type": "execute_result"
    }
   ],
   "source": [
    "# Converting column type to numeric and replacing '?' with mean value\n",
    "num_col = ['normalized-losses', 'bore',  'stroke', 'horsepower', 'peak-rpm']\n",
    "for col in num_col:\n",
    "    df[col] = df[col].replace('?', np.nan)\n",
    "    df[col] = pd.to_numeric(df[col])\n",
    "    df[col].fillna(df[col].mean(), inplace=True)\n",
    "df.head(10)"
   ]
  },
  {
   "cell_type": "markdown",
   "id": "proprietary-desktop",
   "metadata": {
    "papermill": {
     "duration": 0.059934,
     "end_time": "2021-05-06T07:19:03.548518",
     "exception": false,
     "start_time": "2021-05-06T07:19:03.488584",
     "status": "completed"
    },
    "tags": []
   },
   "source": [
    "# **4. Exploratory Data Analysis** 📉"
   ]
  },
  {
   "cell_type": "code",
   "execution_count": 8,
   "id": "union-retreat",
   "metadata": {
    "execution": {
     "iopub.execute_input": "2021-05-06T07:19:03.674124Z",
     "iopub.status.busy": "2021-05-06T07:19:03.673322Z",
     "iopub.status.idle": "2021-05-06T07:19:03.676693Z",
     "shell.execute_reply": "2021-05-06T07:19:03.677244Z"
    },
    "papermill": {
     "duration": 0.069251,
     "end_time": "2021-05-06T07:19:03.677420",
     "exception": false,
     "start_time": "2021-05-06T07:19:03.608169",
     "status": "completed"
    },
    "tags": []
   },
   "outputs": [
    {
     "name": "stdout",
     "output_type": "stream",
     "text": [
      "Columns in our dataset:  Index(['symboling', 'normalized-losses', 'make', 'fuel-type', 'aspiration',\n",
      "       'num-of-doors', 'body-style', 'drive-wheels', 'engine-location',\n",
      "       'wheel-base', 'length', 'width', 'height', 'curb-weight', 'engine-type',\n",
      "       'num-of-cylinders', 'engine-size', 'fuel-system', 'bore', 'stroke',\n",
      "       'compression-ratio', 'horsepower', 'peak-rpm', 'city-mpg',\n",
      "       'highway-mpg', 'price'],\n",
      "      dtype='object')\n"
     ]
    }
   ],
   "source": [
    "print(\"Columns in our dataset: \" , df.columns)"
   ]
  },
  {
   "cell_type": "code",
   "execution_count": 9,
   "id": "structural-ending",
   "metadata": {
    "execution": {
     "iopub.execute_input": "2021-05-06T07:19:03.807549Z",
     "iopub.status.busy": "2021-05-06T07:19:03.805287Z",
     "iopub.status.idle": "2021-05-06T07:19:03.812348Z",
     "shell.execute_reply": "2021-05-06T07:19:03.811655Z"
    },
    "papermill": {
     "duration": 0.074701,
     "end_time": "2021-05-06T07:19:03.812491",
     "exception": false,
     "start_time": "2021-05-06T07:19:03.737790",
     "status": "completed"
    },
    "tags": []
   },
   "outputs": [
    {
     "name": "stdout",
     "output_type": "stream",
     "text": [
      "List of Numerical features:  ['symboling', 'normalized-losses', 'wheel-base', 'length', 'width', 'height', 'curb-weight', 'engine-size', 'bore', 'stroke', 'compression-ratio', 'horsepower', 'peak-rpm', 'city-mpg', 'highway-mpg', 'price']\n",
      "List of Categorical features:  ['make', 'fuel-type', 'aspiration', 'num-of-doors', 'body-style', 'drive-wheels', 'engine-location', 'engine-type', 'num-of-cylinders', 'fuel-system']\n"
     ]
    }
   ],
   "source": [
    "print(\"List of Numerical features: \" , df.select_dtypes(include=np.number).columns.tolist())\n",
    "print(\"List of Categorical features: \" , df.select_dtypes(include=['object']).columns.tolist())"
   ]
  },
  {
   "cell_type": "markdown",
   "id": "thick-convergence",
   "metadata": {
    "papermill": {
     "duration": 0.061408,
     "end_time": "2021-05-06T07:19:03.934752",
     "exception": false,
     "start_time": "2021-05-06T07:19:03.873344",
     "status": "completed"
    },
    "tags": []
   },
   "source": [
    "## (a) Correlation Between Numerical Features"
   ]
  },
  {
   "cell_type": "code",
   "execution_count": 10,
   "id": "familiar-posting",
   "metadata": {
    "execution": {
     "iopub.execute_input": "2021-05-06T07:19:04.076303Z",
     "iopub.status.busy": "2021-05-06T07:19:04.065905Z",
     "iopub.status.idle": "2021-05-06T07:19:05.591918Z",
     "shell.execute_reply": "2021-05-06T07:19:05.591365Z"
    },
    "papermill": {
     "duration": 1.596553,
     "end_time": "2021-05-06T07:19:05.592097",
     "exception": false,
     "start_time": "2021-05-06T07:19:03.995544",
     "status": "completed"
    },
    "tags": []
   },
   "outputs": [
    {
     "data": {
      "text/plain": [
       "<AxesSubplot:>"
      ]
     },
     "execution_count": 10,
     "metadata": {},
     "output_type": "execute_result"
    },
    {
     "data": {
      "image/png": "[encoded data removed]",
      "text/plain": [
       "<Figure size 1080x1080 with 2 Axes>"
      ]
     },
     "metadata": {
      "needs_background": "light"
     },
     "output_type": "display_data"
    }
   ],
   "source": [
    "corr = df[['symboling', 'normalized-losses', 'wheel-base', 'length', 'width', 'height', 'curb-weight', 'engine-size', \n",
    "           'bore', 'stroke', 'compression-ratio', 'horsepower', 'peak-rpm', 'city-mpg', 'highway-mpg', 'price']].corr()\n",
    "f,axes = plt.subplots(1,1,figsize = (15,15))\n",
    "sns.heatmap(corr,square=True,annot = True,linewidth = .5,center = 2,ax = axes)\n"
   ]
  },
  {
   "cell_type": "markdown",
   "id": "geological-motorcycle",
   "metadata": {
    "papermill": {
     "duration": 0.064798,
     "end_time": "2021-05-06T07:19:05.722747",
     "exception": false,
     "start_time": "2021-05-06T07:19:05.657949",
     "status": "completed"
    },
    "tags": []
   },
   "source": [
    "## (b) Correlation between numerical features and target Price"
   ]
  },
  {
   "cell_type": "code",
   "execution_count": 11,
   "id": "monetary-utilization",
   "metadata": {
    "execution": {
     "iopub.execute_input": "2021-05-06T07:19:05.879133Z",
     "iopub.status.busy": "2021-05-06T07:19:05.863482Z",
     "iopub.status.idle": "2021-05-06T07:19:06.174984Z",
     "shell.execute_reply": "2021-05-06T07:19:06.174410Z"
    },
    "papermill": {
     "duration": 0.386917,
     "end_time": "2021-05-06T07:19:06.175119",
     "exception": false,
     "start_time": "2021-05-06T07:19:05.788202",
     "status": "completed"
    },
    "tags": []
   },
   "outputs": [
    {
     "data": {
      "image/png": "[encoded data removed]",
      "text/plain": [
       "<Figure size 1080x216 with 2 Axes>"
      ]
     },
     "metadata": {
      "needs_background": "light"
     },
     "output_type": "display_data"
    }
   ],
   "source": [
    "num = df.select_dtypes(include=np.number)\n",
    "numcorr = num.corr()\n",
    "f,ax = plt.subplots(figsize=(15,3))\n",
    "sns.heatmap(numcorr.sort_values(by=['price'], ascending=False).head(1))\n",
    "plt.title(\" Numerical features correlation with price\", weight='bold', fontsize=20)\n",
    "\n",
    "plt.show()"
   ]
  },
  {
   "cell_type": "markdown",
   "id": "complete-involvement",
   "metadata": {
    "papermill": {
     "duration": 0.068868,
     "end_time": "2021-05-06T07:19:06.628925",
     "exception": false,
     "start_time": "2021-05-06T07:19:06.560057",
     "status": "completed"
    },
    "tags": []
   },
   "source": [
    "Interesting! The engine-size,curb-weight, horsepower have the highest correlation values with the price.\n",
    "**Example of a strong correlation between 2 numerical features: price and engine-size**"
   ]
  },
  {
   "cell_type": "code",
   "execution_count": 12,
   "id": "labeled-bermuda",
   "metadata": {
    "execution": {
     "iopub.execute_input": "2021-05-06T07:19:06.783133Z",
     "iopub.status.busy": "2021-05-06T07:19:06.781532Z",
     "iopub.status.idle": "2021-05-06T07:19:06.931228Z",
     "shell.execute_reply": "2021-05-06T07:19:06.930553Z"
    },
    "papermill": {
     "duration": 0.231774,
     "end_time": "2021-05-06T07:19:06.931377",
     "exception": false,
     "start_time": "2021-05-06T07:19:06.699603",
     "status": "completed"
    },
    "tags": []
   },
   "outputs": [
    {
     "data": {
      "image/png": "[encoded data removed]",
      "text/plain": [
       "<Figure size 720x216 with 1 Axes>"
      ]
     },
     "metadata": {
      "needs_background": "light"
     },
     "output_type": "display_data"
    }
   ],
   "source": [
    "plt.figure(figsize=(10,3))\n",
    "plt.scatter(x=df['engine-size'], y=df['price'], color='blue', alpha=0.6)\n",
    "plt.title('Engine-size vs Price', weight='bold', fontsize=16)\n",
    "plt.xlabel('Engine-size', weight='bold', fontsize=12)\n",
    "plt.ylabel('Price', weight='bold', fontsize=12)\n",
    "plt.xticks(weight='bold')\n",
    "plt.yticks(weight='bold')\n",
    "plt.show()"
   ]
  },
  {
   "cell_type": "markdown",
   "id": "surface-diploma",
   "metadata": {
    "papermill": {
     "duration": 0.070334,
     "end_time": "2021-05-06T07:19:07.072134",
     "exception": false,
     "start_time": "2021-05-06T07:19:07.001800",
     "status": "completed"
    },
    "tags": []
   },
   "source": [
    "**Example of a strong correlation between 2 numerical features: price and horsepower**"
   ]
  },
  {
   "cell_type": "code",
   "execution_count": 13,
   "id": "close-hampton",
   "metadata": {
    "execution": {
     "iopub.execute_input": "2021-05-06T07:19:07.239288Z",
     "iopub.status.busy": "2021-05-06T07:19:07.238173Z",
     "iopub.status.idle": "2021-05-06T07:19:07.353315Z",
     "shell.execute_reply": "2021-05-06T07:19:07.352633Z"
    },
    "papermill": {
     "duration": 0.212785,
     "end_time": "2021-05-06T07:19:07.353464",
     "exception": false,
     "start_time": "2021-05-06T07:19:07.140679",
     "status": "completed"
    },
    "tags": []
   },
   "outputs": [
    {
     "data": {
      "image/png": "[encoded data removed]",
      "text/plain": [
       "<Figure size 720x216 with 1 Axes>"
      ]
     },
     "metadata": {
      "needs_background": "light"
     },
     "output_type": "display_data"
    }
   ],
   "source": [
    "plt.figure(figsize=(10,3))\n",
    "plt.scatter(x=df['horsepower'], y=df['price'], color='blue', alpha=0.6)\n",
    "plt.title('Horsepower vs Price', weight='bold', fontsize=16)\n",
    "plt.xlabel('Horsepower', weight='bold', fontsize=12)\n",
    "plt.ylabel('Price', weight='bold', fontsize=12)\n",
    "plt.xticks(weight='bold')\n",
    "plt.yticks(weight='bold')\n",
    "plt.show()"
   ]
  },
  {
   "cell_type": "markdown",
   "id": "running-norwegian",
   "metadata": {
    "papermill": {
     "duration": 0.07073,
     "end_time": "2021-05-06T07:19:07.493464",
     "exception": false,
     "start_time": "2021-05-06T07:19:07.422734",
     "status": "completed"
    },
    "tags": []
   },
   "source": [
    "## (c) Univariate Distribution \n",
    "Picking one continuous variable and checking its distribution."
   ]
  },
  {
   "cell_type": "code",
   "execution_count": 14,
   "id": "organic-nylon",
   "metadata": {
    "execution": {
     "iopub.execute_input": "2021-05-06T07:19:07.639719Z",
     "iopub.status.busy": "2021-05-06T07:19:07.639060Z",
     "iopub.status.idle": "2021-05-06T07:19:08.131707Z",
     "shell.execute_reply": "2021-05-06T07:19:08.132230Z"
    },
    "papermill": {
     "duration": 0.568091,
     "end_time": "2021-05-06T07:19:08.132414",
     "exception": false,
     "start_time": "2021-05-06T07:19:07.564323",
     "status": "completed"
    },
    "tags": []
   },
   "outputs": [
    {
     "data": {
      "image/png": "[encoded data removed]",
      "text/plain": [
       "<Figure size 360x360 with 1 Axes>"
      ]
     },
     "metadata": {
      "needs_background": "light"
     },
     "output_type": "display_data"
    },
    {
     "data": {
      "image/png": "[encoded data removed]",
      "text/plain": [
       "<Figure size 360x360 with 1 Axes>"
      ]
     },
     "metadata": {
      "needs_background": "light"
     },
     "output_type": "display_data"
    }
   ],
   "source": [
    "sns.displot(df['normalized-losses'])\n",
    "plt.show()\n",
    "\n",
    "sns.displot(df['wheel-base'], rug=True)\n",
    "plt.show()\n"
   ]
  },
  {
   "cell_type": "markdown",
   "id": "involved-permission",
   "metadata": {
    "papermill": {
     "duration": 0.071287,
     "end_time": "2021-05-06T07:19:08.276401",
     "exception": false,
     "start_time": "2021-05-06T07:19:08.205114",
     "status": "completed"
    },
    "tags": []
   },
   "source": [
    "## (d) Bivariate Distribution"
   ]
  },
  {
   "cell_type": "code",
   "execution_count": 15,
   "id": "becoming-couple",
   "metadata": {
    "execution": {
     "iopub.execute_input": "2021-05-06T07:19:08.443551Z",
     "iopub.status.busy": "2021-05-06T07:19:08.434377Z",
     "iopub.status.idle": "2021-05-06T07:19:08.856578Z",
     "shell.execute_reply": "2021-05-06T07:19:08.857133Z"
    },
    "papermill": {
     "duration": 0.509266,
     "end_time": "2021-05-06T07:19:08.857311",
     "exception": false,
     "start_time": "2021-05-06T07:19:08.348045",
     "status": "completed"
    },
    "tags": []
   },
   "outputs": [
    {
     "data": {
      "image/png": "[encoded data removed]",
      "text/plain": [
       "<Figure size 432x432 with 3 Axes>"
      ]
     },
     "metadata": {
      "needs_background": "light"
     },
     "output_type": "display_data"
    }
   ],
   "source": [
    "sns.jointplot(data = df, x=df['engine-size'], y=df['horsepower'], kind=\"hex\")\n",
    "plt.show()"
   ]
  },
  {
   "cell_type": "code",
   "execution_count": 16,
   "id": "wrapped-degree",
   "metadata": {
    "execution": {
     "iopub.execute_input": "2021-05-06T07:19:09.007499Z",
     "iopub.status.busy": "2021-05-06T07:19:09.006895Z",
     "iopub.status.idle": "2021-05-06T07:19:09.501776Z",
     "shell.execute_reply": "2021-05-06T07:19:09.501014Z"
    },
    "papermill": {
     "duration": 0.571598,
     "end_time": "2021-05-06T07:19:09.501927",
     "exception": false,
     "start_time": "2021-05-06T07:19:08.930329",
     "status": "completed"
    },
    "tags": []
   },
   "outputs": [
    {
     "name": "stderr",
     "output_type": "stream",
     "text": [
      "C:\\ProgramData\\Anaconda3\\lib\\site-packages\\seaborn\\distributions.py:306: UserWarning: Dataset has 0 variance; skipping density estimate.\n",
      "  warnings.warn(msg, UserWarning)\n",
      "C:\\ProgramData\\Anaconda3\\lib\\site-packages\\seaborn\\distributions.py:306: UserWarning: Dataset has 0 variance; skipping density estimate.\n",
      "  warnings.warn(msg, UserWarning)\n"
     ]
    },
    {
     "data": {
      "image/png": "[encoded data removed]",
      "text/plain": [
       "<Figure size 432x432 with 3 Axes>"
      ]
     },
     "metadata": {
      "needs_background": "light"
     },
     "output_type": "display_data"
    }
   ],
   "source": [
    "sns.jointplot(data = df, x=df['engine-size'], y=df['horsepower'], hue=\"engine-location\")\n",
    "plt.show()"
   ]
  },
  {
   "cell_type": "markdown",
   "id": "powered-brunei",
   "metadata": {
    "papermill": {
     "duration": 0.077473,
     "end_time": "2021-05-06T07:19:09.655478",
     "exception": false,
     "start_time": "2021-05-06T07:19:09.578005",
     "status": "completed"
    },
    "tags": []
   },
   "source": [
    "Let's dig in more into the data, those are just the numerical features. I assume that categorical features will be very important like body-style."
   ]
  },
  {
   "cell_type": "markdown",
   "id": "warming-tobago",
   "metadata": {
    "papermill": {
     "duration": 0.075229,
     "end_time": "2021-05-06T07:19:09.806867",
     "exception": false,
     "start_time": "2021-05-06T07:19:09.731638",
     "status": "completed"
    },
    "tags": []
   },
   "source": []
  },
  {
   "cell_type": "code",
   "execution_count": 17,
   "id": "parallel-opposition",
   "metadata": {
    "execution": {
     "iopub.execute_input": "2021-05-06T07:19:10.129458Z",
     "iopub.status.busy": "2021-05-06T07:19:10.121549Z",
     "iopub.status.idle": "2021-05-06T07:19:10.314260Z",
     "shell.execute_reply": "2021-05-06T07:19:10.313593Z"
    },
    "papermill": {
     "duration": 0.281862,
     "end_time": "2021-05-06T07:19:10.314398",
     "exception": false,
     "start_time": "2021-05-06T07:19:10.032536",
     "status": "completed"
    },
    "tags": []
   },
   "outputs": [],
   "source": [
    "df.rename(columns={'body-style': 'bodystyle'}, inplace=True)\n",
    "df.rename(columns={'drive-wheels': 'drivewheels'}, inplace=True)"
   ]
  },
  {
   "cell_type": "markdown",
   "id": "earned-liechtenstein",
   "metadata": {
    "papermill": {
     "duration": 0.077516,
     "end_time": "2021-05-06T07:19:11.393056",
     "exception": false,
     "start_time": "2021-05-06T07:19:11.315540",
     "status": "completed"
    },
    "tags": []
   },
   "source": [
    "# **5. Feature Engineering** ⚙️"
   ]
  },
  {
   "cell_type": "markdown",
   "id": "catholic-fountain",
   "metadata": {
    "papermill": {
     "duration": 0.078121,
     "end_time": "2021-05-06T07:19:11.549948",
     "exception": false,
     "start_time": "2021-05-06T07:19:11.471827",
     "status": "completed"
    },
    "tags": []
   },
   "source": [
    "## (a) Checking Outliers"
   ]
  },
  {
   "cell_type": "code",
   "execution_count": 18,
   "id": "widespread-membership",
   "metadata": {
    "execution": {
     "iopub.execute_input": "2021-05-06T07:19:11.721893Z",
     "iopub.status.busy": "2021-05-06T07:19:11.714940Z",
     "iopub.status.idle": "2021-05-06T07:19:11.908273Z",
     "shell.execute_reply": "2021-05-06T07:19:11.907629Z"
    },
    "papermill": {
     "duration": 0.280428,
     "end_time": "2021-05-06T07:19:11.908411",
     "exception": false,
     "start_time": "2021-05-06T07:19:11.627983",
     "status": "completed"
    },
    "tags": []
   },
   "outputs": [
    {
     "data": {
      "text/html": [
       "<div>\n",
       "<style scoped>\n",
       "    .dataframe tbody tr th:only-of-type {\n",
       "        vertical-align: middle;\n",
       "    }\n",
       "\n",
       "    .dataframe tbody tr th {\n",
       "        vertical-align: top;\n",
       "    }\n",
       "\n",
       "    .dataframe thead th {\n",
       "        text-align: right;\n",
       "    }\n",
       "</style>\n",
       "<table border=\"1\" class=\"dataframe\">\n",
       "  <thead>\n",
       "    <tr style=\"text-align: right;\">\n",
       "      <th></th>\n",
       "      <th>symboling</th>\n",
       "      <th>normalized-losses</th>\n",
       "      <th>wheel-base</th>\n",
       "      <th>length</th>\n",
       "      <th>width</th>\n",
       "      <th>height</th>\n",
       "      <th>curb-weight</th>\n",
       "      <th>engine-size</th>\n",
       "      <th>bore</th>\n",
       "      <th>stroke</th>\n",
       "      <th>compression-ratio</th>\n",
       "      <th>horsepower</th>\n",
       "      <th>peak-rpm</th>\n",
       "      <th>city-mpg</th>\n",
       "      <th>highway-mpg</th>\n",
       "      <th>price</th>\n",
       "    </tr>\n",
       "  </thead>\n",
       "  <tbody>\n",
       "    <tr>\n",
       "      <th>count</th>\n",
       "      <td>199.000000</td>\n",
       "      <td>199.000000</td>\n",
       "      <td>199.000000</td>\n",
       "      <td>199.000000</td>\n",
       "      <td>199.000000</td>\n",
       "      <td>199.000000</td>\n",
       "      <td>199.000000</td>\n",
       "      <td>199.000000</td>\n",
       "      <td>199.000000</td>\n",
       "      <td>199.000000</td>\n",
       "      <td>199.000000</td>\n",
       "      <td>199.000000</td>\n",
       "      <td>199.000000</td>\n",
       "      <td>199.000000</td>\n",
       "      <td>199.000000</td>\n",
       "      <td>199.000000</td>\n",
       "    </tr>\n",
       "    <tr>\n",
       "      <th>mean</th>\n",
       "      <td>0.844221</td>\n",
       "      <td>121.840491</td>\n",
       "      <td>98.822613</td>\n",
       "      <td>174.267839</td>\n",
       "      <td>65.896482</td>\n",
       "      <td>53.773869</td>\n",
       "      <td>2558.065327</td>\n",
       "      <td>127.045226</td>\n",
       "      <td>3.331949</td>\n",
       "      <td>3.255538</td>\n",
       "      <td>10.114171</td>\n",
       "      <td>103.604061</td>\n",
       "      <td>5118.020305</td>\n",
       "      <td>25.130653</td>\n",
       "      <td>30.633166</td>\n",
       "      <td>13242.613065</td>\n",
       "    </tr>\n",
       "    <tr>\n",
       "      <th>std</th>\n",
       "      <td>1.259651</td>\n",
       "      <td>32.103986</td>\n",
       "      <td>6.086103</td>\n",
       "      <td>12.323033</td>\n",
       "      <td>2.106373</td>\n",
       "      <td>2.446730</td>\n",
       "      <td>519.189151</td>\n",
       "      <td>41.703898</td>\n",
       "      <td>0.268538</td>\n",
       "      <td>0.317355</td>\n",
       "      <td>3.920762</td>\n",
       "      <td>37.448626</td>\n",
       "      <td>478.600274</td>\n",
       "      <td>6.408881</td>\n",
       "      <td>6.801746</td>\n",
       "      <td>7978.344857</td>\n",
       "    </tr>\n",
       "    <tr>\n",
       "      <th>min</th>\n",
       "      <td>-2.000000</td>\n",
       "      <td>65.000000</td>\n",
       "      <td>86.600000</td>\n",
       "      <td>141.100000</td>\n",
       "      <td>60.300000</td>\n",
       "      <td>47.800000</td>\n",
       "      <td>1488.000000</td>\n",
       "      <td>61.000000</td>\n",
       "      <td>2.540000</td>\n",
       "      <td>2.070000</td>\n",
       "      <td>7.000000</td>\n",
       "      <td>48.000000</td>\n",
       "      <td>4150.000000</td>\n",
       "      <td>13.000000</td>\n",
       "      <td>16.000000</td>\n",
       "      <td>5118.000000</td>\n",
       "    </tr>\n",
       "    <tr>\n",
       "      <th>25%</th>\n",
       "      <td>0.000000</td>\n",
       "      <td>99.500000</td>\n",
       "      <td>94.500000</td>\n",
       "      <td>166.800000</td>\n",
       "      <td>64.150000</td>\n",
       "      <td>52.000000</td>\n",
       "      <td>2157.000000</td>\n",
       "      <td>97.500000</td>\n",
       "      <td>3.150000</td>\n",
       "      <td>3.110000</td>\n",
       "      <td>8.600000</td>\n",
       "      <td>70.000000</td>\n",
       "      <td>4800.000000</td>\n",
       "      <td>19.000000</td>\n",
       "      <td>25.000000</td>\n",
       "      <td>7775.000000</td>\n",
       "    </tr>\n",
       "    <tr>\n",
       "      <th>50%</th>\n",
       "      <td>1.000000</td>\n",
       "      <td>121.840491</td>\n",
       "      <td>97.000000</td>\n",
       "      <td>173.200000</td>\n",
       "      <td>65.500000</td>\n",
       "      <td>54.100000</td>\n",
       "      <td>2414.000000</td>\n",
       "      <td>120.000000</td>\n",
       "      <td>3.310000</td>\n",
       "      <td>3.290000</td>\n",
       "      <td>9.000000</td>\n",
       "      <td>95.000000</td>\n",
       "      <td>5118.020305</td>\n",
       "      <td>24.000000</td>\n",
       "      <td>30.000000</td>\n",
       "      <td>10295.000000</td>\n",
       "    </tr>\n",
       "    <tr>\n",
       "      <th>75%</th>\n",
       "      <td>2.000000</td>\n",
       "      <td>137.000000</td>\n",
       "      <td>102.400000</td>\n",
       "      <td>183.500000</td>\n",
       "      <td>66.750000</td>\n",
       "      <td>55.550000</td>\n",
       "      <td>2930.500000</td>\n",
       "      <td>143.000000</td>\n",
       "      <td>3.585000</td>\n",
       "      <td>3.410000</td>\n",
       "      <td>9.400000</td>\n",
       "      <td>116.000000</td>\n",
       "      <td>5500.000000</td>\n",
       "      <td>30.000000</td>\n",
       "      <td>34.000000</td>\n",
       "      <td>16501.500000</td>\n",
       "    </tr>\n",
       "    <tr>\n",
       "      <th>max</th>\n",
       "      <td>3.000000</td>\n",
       "      <td>256.000000</td>\n",
       "      <td>120.900000</td>\n",
       "      <td>208.100000</td>\n",
       "      <td>72.000000</td>\n",
       "      <td>59.800000</td>\n",
       "      <td>4066.000000</td>\n",
       "      <td>326.000000</td>\n",
       "      <td>3.940000</td>\n",
       "      <td>4.170000</td>\n",
       "      <td>23.000000</td>\n",
       "      <td>262.000000</td>\n",
       "      <td>6600.000000</td>\n",
       "      <td>49.000000</td>\n",
       "      <td>54.000000</td>\n",
       "      <td>45400.000000</td>\n",
       "    </tr>\n",
       "  </tbody>\n",
       "</table>\n",
       "</div>"
      ],
      "text/plain": [
       "        symboling  normalized-losses  wheel-base      length       width  \\\n",
       "count  199.000000         199.000000  199.000000  199.000000  199.000000   \n",
       "mean     0.844221         121.840491   98.822613  174.267839   65.896482   \n",
       "std      1.259651          32.103986    6.086103   12.323033    2.106373   \n",
       "min     -2.000000          65.000000   86.600000  141.100000   60.300000   \n",
       "25%      0.000000          99.500000   94.500000  166.800000   64.150000   \n",
       "50%      1.000000         121.840491   97.000000  173.200000   65.500000   \n",
       "75%      2.000000         137.000000  102.400000  183.500000   66.750000   \n",
       "max      3.000000         256.000000  120.900000  208.100000   72.000000   \n",
       "\n",
       "           height  curb-weight  engine-size        bore      stroke  \\\n",
       "count  199.000000   199.000000   199.000000  199.000000  199.000000   \n",
       "mean    53.773869  2558.065327   127.045226    3.331949    3.255538   \n",
       "std      2.446730   519.189151    41.703898    0.268538    0.317355   \n",
       "min     47.800000  1488.000000    61.000000    2.540000    2.070000   \n",
       "25%     52.000000  2157.000000    97.500000    3.150000    3.110000   \n",
       "50%     54.100000  2414.000000   120.000000    3.310000    3.290000   \n",
       "75%     55.550000  2930.500000   143.000000    3.585000    3.410000   \n",
       "max     59.800000  4066.000000   326.000000    3.940000    4.170000   \n",
       "\n",
       "       compression-ratio  horsepower     peak-rpm    city-mpg  highway-mpg  \\\n",
       "count         199.000000  199.000000   199.000000  199.000000   199.000000   \n",
       "mean           10.114171  103.604061  5118.020305   25.130653    30.633166   \n",
       "std             3.920762   37.448626   478.600274    6.408881     6.801746   \n",
       "min             7.000000   48.000000  4150.000000   13.000000    16.000000   \n",
       "25%             8.600000   70.000000  4800.000000   19.000000    25.000000   \n",
       "50%             9.000000   95.000000  5118.020305   24.000000    30.000000   \n",
       "75%             9.400000  116.000000  5500.000000   30.000000    34.000000   \n",
       "max            23.000000  262.000000  6600.000000   49.000000    54.000000   \n",
       "\n",
       "              price  \n",
       "count    199.000000  \n",
       "mean   13242.613065  \n",
       "std     7978.344857  \n",
       "min     5118.000000  \n",
       "25%     7775.000000  \n",
       "50%    10295.000000  \n",
       "75%    16501.500000  \n",
       "max    45400.000000  "
      ]
     },
     "execution_count": 18,
     "metadata": {},
     "output_type": "execute_result"
    }
   ],
   "source": [
    "# For statistical description of numerical columns\n",
    "df.describe() "
   ]
  },
  {
   "cell_type": "markdown",
   "id": "pacific-store",
   "metadata": {
    "papermill": {
     "duration": 0.079026,
     "end_time": "2021-05-06T07:19:12.067238",
     "exception": false,
     "start_time": "2021-05-06T07:19:11.988212",
     "status": "completed"
    },
    "tags": []
   },
   "source": [
    "In normalized-losses column most of the values are below 200 but maximum value is 256 that's weird!\n",
    "Let's visualize the numerical quantities in our dataset as boxplots, to have a better sense of the outliers."
   ]
  },
  {
   "cell_type": "markdown",
   "id": "falling-martial",
   "metadata": {
    "papermill": {
     "duration": 0.079496,
     "end_time": "2021-05-06T07:19:12.226013",
     "exception": false,
     "start_time": "2021-05-06T07:19:12.146517",
     "status": "completed"
    },
    "tags": []
   },
   "source": [
    "**Boxplot for Visualizing Outliers**"
   ]
  },
  {
   "cell_type": "code",
   "execution_count": 19,
   "id": "disciplinary-cartoon",
   "metadata": {
    "execution": {
     "iopub.execute_input": "2021-05-06T07:19:12.393699Z",
     "iopub.status.busy": "2021-05-06T07:19:12.392904Z",
     "iopub.status.idle": "2021-05-06T07:19:12.396995Z",
     "shell.execute_reply": "2021-05-06T07:19:12.396345Z"
    },
    "papermill": {
     "duration": 0.091684,
     "end_time": "2021-05-06T07:19:12.397135",
     "exception": false,
     "start_time": "2021-05-06T07:19:12.305451",
     "status": "completed"
    },
    "tags": []
   },
   "outputs": [
    {
     "data": {
      "text/plain": [
       "['symboling',\n",
       " 'normalized-losses',\n",
       " 'wheel-base',\n",
       " 'length',\n",
       " 'width',\n",
       " 'height',\n",
       " 'curb-weight',\n",
       " 'engine-size',\n",
       " 'bore',\n",
       " 'stroke',\n",
       " 'compression-ratio',\n",
       " 'horsepower',\n",
       " 'peak-rpm',\n",
       " 'city-mpg',\n",
       " 'highway-mpg',\n",
       " 'price']"
      ]
     },
     "execution_count": 19,
     "metadata": {},
     "output_type": "execute_result"
    }
   ],
   "source": [
    "# Numerical Columns\n",
    "df.select_dtypes(include=np.number).columns.tolist()"
   ]
  },
  {
   "cell_type": "code",
   "execution_count": 20,
   "id": "closed-present",
   "metadata": {
    "execution": {
     "iopub.execute_input": "2021-05-06T07:19:12.582085Z",
     "iopub.status.busy": "2021-05-06T07:19:12.579508Z",
     "iopub.status.idle": "2021-05-06T07:19:12.832878Z",
     "shell.execute_reply": "2021-05-06T07:19:12.833408Z"
    },
    "papermill": {
     "duration": 0.355475,
     "end_time": "2021-05-06T07:19:12.833596",
     "exception": false,
     "start_time": "2021-05-06T07:19:12.478121",
     "status": "completed"
    },
    "tags": []
   },
   "outputs": [
    {
     "data": {
      "image/png": "[encoded data removed]",
      "text/plain": [
       "<Figure size 864x576 with 1 Axes>"
      ]
     },
     "metadata": {
      "needs_background": "light"
     },
     "output_type": "display_data"
    }
   ],
   "source": [
    "# Taking first 6 columns\n",
    "numeric_cols = ['symboling', 'normalized-losses', 'wheel-base', 'length', 'width', 'height'] \n",
    "plt.figure(figsize=(12,8))\n",
    "plt.title(\"Numerical Variables in Automobile Dataset\")\n",
    "df[numeric_cols].boxplot(color='blue')\n",
    "plt.show()"
   ]
  },
  {
   "cell_type": "markdown",
   "id": "supposed-alaska",
   "metadata": {
    "papermill": {
     "duration": 0.082414,
     "end_time": "2021-05-06T07:19:12.997536",
     "exception": false,
     "start_time": "2021-05-06T07:19:12.915122",
     "status": "completed"
    },
    "tags": []
   },
   "source": [
    "**2 outliers in normalized-losses column.**"
   ]
  },
  {
   "cell_type": "code",
   "execution_count": 21,
   "id": "another-fundamentals",
   "metadata": {
    "execution": {
     "iopub.execute_input": "2021-05-06T07:19:13.192532Z",
     "iopub.status.busy": "2021-05-06T07:19:13.183328Z",
     "iopub.status.idle": "2021-05-06T07:19:13.455940Z",
     "shell.execute_reply": "2021-05-06T07:19:13.454608Z"
    },
    "papermill": {
     "duration": 0.37592,
     "end_time": "2021-05-06T07:19:13.456101",
     "exception": false,
     "start_time": "2021-05-06T07:19:13.080181",
     "status": "completed"
    },
    "tags": []
   },
   "outputs": [
    {
     "data": {
      "image/png": "[encoded data removed]",
      "text/plain": [
       "<Figure size 864x1080 with 1 Axes>"
      ]
     },
     "metadata": {
      "needs_background": "light"
     },
     "output_type": "display_data"
    }
   ],
   "source": [
    "# Taking rest of the numeric columns\n",
    "numeric_cols = ['curb-weight', 'engine-size', 'bore', 'stroke', 'compression-ratio', 'horsepower', 'peak-rpm', 'city-mpg', 'highway-mpg']\n",
    "plt.figure(figsize=(12,15))\n",
    "plt.title(\"Numerical Variables in Automobile Dataset\")\n",
    "df[numeric_cols].boxplot(color='blue')\n",
    "plt.show()"
   ]
  },
  {
   "cell_type": "markdown",
   "id": "breathing-breath",
   "metadata": {
    "papermill": {
     "duration": 0.082475,
     "end_time": "2021-05-06T07:19:13.623076",
     "exception": false,
     "start_time": "2021-05-06T07:19:13.540601",
     "status": "completed"
    },
    "tags": []
   },
   "source": [
    "**1 outlier in peak-rpm**"
   ]
  },
  {
   "cell_type": "markdown",
   "id": "known-promotion",
   "metadata": {
    "papermill": {
     "duration": 0.082524,
     "end_time": "2021-05-06T07:19:13.788592",
     "exception": false,
     "start_time": "2021-05-06T07:19:13.706068",
     "status": "completed"
    },
    "tags": []
   },
   "source": [
    "## (b) Handling Outliers"
   ]
  },
  {
   "cell_type": "markdown",
   "id": "saved-public",
   "metadata": {
    "papermill": {
     "duration": 0.082557,
     "end_time": "2021-05-06T07:19:13.953546",
     "exception": false,
     "start_time": "2021-05-06T07:19:13.870989",
     "status": "completed"
    },
    "tags": []
   },
   "source": [
    "* **For normalized-losses outliers: Replace with mean value.**\n",
    "* **For peak-rpm: Remove outlier entry.**"
   ]
  },
  {
   "cell_type": "code",
   "execution_count": 22,
   "id": "attended-spread",
   "metadata": {
    "execution": {
     "iopub.execute_input": "2021-05-06T07:19:14.124943Z",
     "iopub.status.busy": "2021-05-06T07:19:14.124236Z",
     "iopub.status.idle": "2021-05-06T07:19:14.129237Z",
     "shell.execute_reply": "2021-05-06T07:19:14.128531Z"
    },
    "papermill": {
     "duration": 0.093581,
     "end_time": "2021-05-06T07:19:14.129376",
     "exception": false,
     "start_time": "2021-05-06T07:19:14.035795",
     "status": "completed"
    },
    "tags": []
   },
   "outputs": [
    {
     "data": {
      "text/plain": [
       "Index(['symboling', 'normalizedlosses', 'make', 'fuel-type', 'aspiration',\n",
       "       'num-of-doors', 'bodystyle', 'drivewheels', 'engine-location',\n",
       "       'wheel-base', 'length', 'width', 'height', 'curb-weight', 'engine-type',\n",
       "       'num-of-cylinders', 'engine-size', 'fuel-system', 'bore', 'stroke',\n",
       "       'compression-ratio', 'horsepower', 'peakrpm', 'city-mpg', 'highway-mpg',\n",
       "       'price'],\n",
       "      dtype='object')"
      ]
     },
     "execution_count": 22,
     "metadata": {},
     "output_type": "execute_result"
    }
   ],
   "source": [
    "df.rename(columns={'normalized-losses': 'normalizedlosses', 'peak-rpm': 'peakrpm'}, inplace=True)\n",
    "df.columns"
   ]
  },
  {
   "cell_type": "code",
   "execution_count": 23,
   "id": "traditional-wellington",
   "metadata": {
    "execution": {
     "iopub.execute_input": "2021-05-06T07:19:14.302107Z",
     "iopub.status.busy": "2021-05-06T07:19:14.301022Z",
     "iopub.status.idle": "2021-05-06T07:19:14.305229Z",
     "shell.execute_reply": "2021-05-06T07:19:14.305661Z"
    },
    "papermill": {
     "duration": 0.093309,
     "end_time": "2021-05-06T07:19:14.305859",
     "exception": false,
     "start_time": "2021-05-06T07:19:14.212550",
     "status": "completed"
    },
    "tags": []
   },
   "outputs": [
    {
     "data": {
      "text/plain": [
       "array([121.8404908, 164.       , 158.       , 192.       , 188.       ,\n",
       "       121.       ,  98.       ,  81.       , 118.       , 148.       ,\n",
       "       110.       , 145.       , 137.       , 101.       ,  78.       ,\n",
       "       106.       ,  85.       , 107.       , 104.       , 113.       ,\n",
       "       150.       , 129.       , 115.       ,  93.       , 142.       ,\n",
       "       161.       , 153.       , 125.       , 128.       , 122.       ,\n",
       "       103.       , 168.       , 108.       , 194.       , 231.       ,\n",
       "       119.       , 154.       ,  74.       , 186.       ,  83.       ,\n",
       "       102.       ,  89.       ,  87.       ,  77.       ,  91.       ,\n",
       "       134.       ,  65.       , 197.       ,  90.       ,  94.       ,\n",
       "       256.       ,  95.       ])"
      ]
     },
     "execution_count": 23,
     "metadata": {},
     "output_type": "execute_result"
    }
   ],
   "source": [
    "df['normalizedlosses'].unique()"
   ]
  },
  {
   "cell_type": "code",
   "execution_count": 24,
   "id": "agreed-synthetic",
   "metadata": {
    "execution": {
     "iopub.execute_input": "2021-05-06T07:19:14.484432Z",
     "iopub.status.busy": "2021-05-06T07:19:14.483483Z",
     "iopub.status.idle": "2021-05-06T07:19:14.488230Z",
     "shell.execute_reply": "2021-05-06T07:19:14.487694Z"
    },
    "papermill": {
     "duration": 0.098557,
     "end_time": "2021-05-06T07:19:14.488374",
     "exception": false,
     "start_time": "2021-05-06T07:19:14.389817",
     "status": "completed"
    },
    "tags": []
   },
   "outputs": [
    {
     "data": {
      "text/plain": [
       "array([121.8404908 , 164.        , 158.        , 192.        ,\n",
       "       188.        , 121.        ,  98.        ,  81.        ,\n",
       "       118.        , 148.        , 110.        , 145.        ,\n",
       "       137.        , 101.        ,  78.        , 106.        ,\n",
       "        85.        , 107.        , 104.        , 113.        ,\n",
       "       150.        , 129.        , 115.        ,  93.        ,\n",
       "       142.        , 161.        , 153.        , 125.        ,\n",
       "       128.        , 122.        , 103.        , 168.        ,\n",
       "       108.        , 194.        , 120.60818478, 119.        ,\n",
       "       154.        ,  74.        , 186.        ,  83.        ,\n",
       "       102.        ,  89.        ,  87.        ,  77.        ,\n",
       "        91.        , 134.        ,  65.        , 197.        ,\n",
       "        90.        ,  94.        , 121.16291752,  95.        ])"
      ]
     },
     "execution_count": 24,
     "metadata": {},
     "output_type": "execute_result"
    }
   ],
   "source": [
    "df['normalizedlosses'] = df['normalizedlosses'].replace(256.0, np.nan)\n",
    "df['normalizedlosses'].fillna(df['normalizedlosses'].mean(), inplace=True)\n",
    "df['normalizedlosses'] = df['normalizedlosses'].replace(231.0, np.nan)\n",
    "df['normalizedlosses'].fillna(df['normalizedlosses'].mean(), inplace=True)\n",
    "df['normalizedlosses'].unique()"
   ]
  },
  {
   "cell_type": "code",
   "execution_count": 25,
   "id": "productive-driver",
   "metadata": {
    "execution": {
     "iopub.execute_input": "2021-05-06T07:19:14.662198Z",
     "iopub.status.busy": "2021-05-06T07:19:14.661326Z",
     "iopub.status.idle": "2021-05-06T07:19:14.665874Z",
     "shell.execute_reply": "2021-05-06T07:19:14.665342Z"
    },
    "papermill": {
     "duration": 0.093772,
     "end_time": "2021-05-06T07:19:14.666010",
     "exception": false,
     "start_time": "2021-05-06T07:19:14.572238",
     "status": "completed"
    },
    "tags": []
   },
   "outputs": [
    {
     "data": {
      "text/plain": [
       "array([5000.        , 5500.        , 5800.        , 4250.        ,\n",
       "       5400.        , 5100.        , 4800.        , 6000.        ,\n",
       "       4750.        , 4200.        , 4350.        , 4500.        ,\n",
       "       5200.        , 4150.        , 5600.        , 5900.        ,\n",
       "       5118.02030457, 5250.        , 4900.        , 4400.        ,\n",
       "       6600.        , 5300.        ])"
      ]
     },
     "execution_count": 25,
     "metadata": {},
     "output_type": "execute_result"
    }
   ],
   "source": [
    "df['peakrpm'].unique()"
   ]
  },
  {
   "cell_type": "code",
   "execution_count": 26,
   "id": "stylish-ridge",
   "metadata": {
    "execution": {
     "iopub.execute_input": "2021-05-06T07:19:14.841505Z",
     "iopub.status.busy": "2021-05-06T07:19:14.840825Z",
     "iopub.status.idle": "2021-05-06T07:19:14.865926Z",
     "shell.execute_reply": "2021-05-06T07:19:14.865365Z"
    },
    "papermill": {
     "duration": 0.11633,
     "end_time": "2021-05-06T07:19:14.866066",
     "exception": false,
     "start_time": "2021-05-06T07:19:14.749736",
     "status": "completed"
    },
    "tags": []
   },
   "outputs": [
    {
     "data": {
      "text/html": [
       "<div>\n",
       "<style scoped>\n",
       "    .dataframe tbody tr th:only-of-type {\n",
       "        vertical-align: middle;\n",
       "    }\n",
       "\n",
       "    .dataframe tbody tr th {\n",
       "        vertical-align: top;\n",
       "    }\n",
       "\n",
       "    .dataframe thead th {\n",
       "        text-align: right;\n",
       "    }\n",
       "</style>\n",
       "<table border=\"1\" class=\"dataframe\">\n",
       "  <thead>\n",
       "    <tr style=\"text-align: right;\">\n",
       "      <th></th>\n",
       "      <th>symboling</th>\n",
       "      <th>normalizedlosses</th>\n",
       "      <th>make</th>\n",
       "      <th>fuel-type</th>\n",
       "      <th>aspiration</th>\n",
       "      <th>num-of-doors</th>\n",
       "      <th>bodystyle</th>\n",
       "      <th>drivewheels</th>\n",
       "      <th>engine-location</th>\n",
       "      <th>wheel-base</th>\n",
       "      <th>...</th>\n",
       "      <th>engine-size</th>\n",
       "      <th>fuel-system</th>\n",
       "      <th>bore</th>\n",
       "      <th>stroke</th>\n",
       "      <th>compression-ratio</th>\n",
       "      <th>horsepower</th>\n",
       "      <th>peakrpm</th>\n",
       "      <th>city-mpg</th>\n",
       "      <th>highway-mpg</th>\n",
       "      <th>price</th>\n",
       "    </tr>\n",
       "  </thead>\n",
       "  <tbody>\n",
       "    <tr>\n",
       "      <th>165</th>\n",
       "      <td>1</td>\n",
       "      <td>168.0</td>\n",
       "      <td>toyota</td>\n",
       "      <td>gas</td>\n",
       "      <td>std</td>\n",
       "      <td>two</td>\n",
       "      <td>sedan</td>\n",
       "      <td>rwd</td>\n",
       "      <td>front</td>\n",
       "      <td>94.5</td>\n",
       "      <td>...</td>\n",
       "      <td>98</td>\n",
       "      <td>mpfi</td>\n",
       "      <td>3.24</td>\n",
       "      <td>3.08</td>\n",
       "      <td>9.4</td>\n",
       "      <td>112.0</td>\n",
       "      <td>6600.0</td>\n",
       "      <td>26</td>\n",
       "      <td>29</td>\n",
       "      <td>9298.0</td>\n",
       "    </tr>\n",
       "    <tr>\n",
       "      <th>166</th>\n",
       "      <td>1</td>\n",
       "      <td>168.0</td>\n",
       "      <td>toyota</td>\n",
       "      <td>gas</td>\n",
       "      <td>std</td>\n",
       "      <td>two</td>\n",
       "      <td>hatchback</td>\n",
       "      <td>rwd</td>\n",
       "      <td>front</td>\n",
       "      <td>94.5</td>\n",
       "      <td>...</td>\n",
       "      <td>98</td>\n",
       "      <td>mpfi</td>\n",
       "      <td>3.24</td>\n",
       "      <td>3.08</td>\n",
       "      <td>9.4</td>\n",
       "      <td>112.0</td>\n",
       "      <td>6600.0</td>\n",
       "      <td>26</td>\n",
       "      <td>29</td>\n",
       "      <td>9538.0</td>\n",
       "    </tr>\n",
       "  </tbody>\n",
       "</table>\n",
       "<p>2 rows × 26 columns</p>\n",
       "</div>"
      ],
      "text/plain": [
       "     symboling  normalizedlosses    make fuel-type aspiration num-of-doors  \\\n",
       "165          1             168.0  toyota       gas        std          two   \n",
       "166          1             168.0  toyota       gas        std          two   \n",
       "\n",
       "     bodystyle drivewheels engine-location  wheel-base  ...  engine-size  \\\n",
       "165      sedan         rwd           front        94.5  ...           98   \n",
       "166  hatchback         rwd           front        94.5  ...           98   \n",
       "\n",
       "     fuel-system  bore  stroke compression-ratio horsepower  peakrpm city-mpg  \\\n",
       "165         mpfi  3.24    3.08               9.4      112.0   6600.0       26   \n",
       "166         mpfi  3.24    3.08               9.4      112.0   6600.0       26   \n",
       "\n",
       "     highway-mpg   price  \n",
       "165           29  9298.0  \n",
       "166           29  9538.0  \n",
       "\n",
       "[2 rows x 26 columns]"
      ]
     },
     "execution_count": 26,
     "metadata": {},
     "output_type": "execute_result"
    }
   ],
   "source": [
    "df[df.peakrpm == 6600.0]"
   ]
  },
  {
   "cell_type": "markdown",
   "id": "horizontal-diamond",
   "metadata": {
    "papermill": {
     "duration": 0.084882,
     "end_time": "2021-05-06T07:19:15.036546",
     "exception": false,
     "start_time": "2021-05-06T07:19:14.951664",
     "status": "completed"
    },
    "tags": []
   },
   "source": [
    "This seems like a duplicate entry. Among independent variables only body-style is different. Let's remove these 2 entries."
   ]
  },
  {
   "cell_type": "code",
   "execution_count": 27,
   "id": "common-portland",
   "metadata": {
    "execution": {
     "iopub.execute_input": "2021-05-06T07:19:15.216410Z",
     "iopub.status.busy": "2021-05-06T07:19:15.215761Z",
     "iopub.status.idle": "2021-05-06T07:19:15.218860Z",
     "shell.execute_reply": "2021-05-06T07:19:15.218361Z"
    },
    "papermill": {
     "duration": 0.096795,
     "end_time": "2021-05-06T07:19:15.218999",
     "exception": false,
     "start_time": "2021-05-06T07:19:15.122204",
     "status": "completed"
    },
    "tags": []
   },
   "outputs": [],
   "source": [
    "# Dropping both entries\n",
    "i = df[((df.peakrpm == 6600.0))].index\n",
    "df = df.drop(i)"
   ]
  },
  {
   "cell_type": "markdown",
   "id": "automated-battlefield",
   "metadata": {
    "papermill": {
     "duration": 0.085034,
     "end_time": "2021-05-06T07:19:15.390002",
     "exception": false,
     "start_time": "2021-05-06T07:19:15.304968",
     "status": "completed"
    },
    "tags": []
   },
   "source": [
    "# **Computation for Categorical Variables**"
   ]
  },
  {
   "cell_type": "markdown",
   "id": "variable-technician",
   "metadata": {
    "papermill": {
     "duration": 0.087172,
     "end_time": "2021-05-06T07:19:15.562650",
     "exception": false,
     "start_time": "2021-05-06T07:19:15.475478",
     "status": "completed"
    },
    "tags": []
   },
   "source": [
    "**Printing all categorical variable columns**"
   ]
  },
  {
   "cell_type": "code",
   "execution_count": 28,
   "id": "convinced-license",
   "metadata": {
    "execution": {
     "iopub.execute_input": "2021-05-06T07:19:15.739441Z",
     "iopub.status.busy": "2021-05-06T07:19:15.738739Z",
     "iopub.status.idle": "2021-05-06T07:19:15.754438Z",
     "shell.execute_reply": "2021-05-06T07:19:15.753858Z"
    },
    "papermill": {
     "duration": 0.106621,
     "end_time": "2021-05-06T07:19:15.754585",
     "exception": false,
     "start_time": "2021-05-06T07:19:15.647964",
     "status": "completed"
    },
    "tags": []
   },
   "outputs": [
    {
     "data": {
      "text/html": [
       "<div>\n",
       "<style scoped>\n",
       "    .dataframe tbody tr th:only-of-type {\n",
       "        vertical-align: middle;\n",
       "    }\n",
       "\n",
       "    .dataframe tbody tr th {\n",
       "        vertical-align: top;\n",
       "    }\n",
       "\n",
       "    .dataframe thead th {\n",
       "        text-align: right;\n",
       "    }\n",
       "</style>\n",
       "<table border=\"1\" class=\"dataframe\">\n",
       "  <thead>\n",
       "    <tr style=\"text-align: right;\">\n",
       "      <th></th>\n",
       "      <th>make</th>\n",
       "      <th>fuel-type</th>\n",
       "      <th>aspiration</th>\n",
       "      <th>num-of-doors</th>\n",
       "      <th>bodystyle</th>\n",
       "      <th>drivewheels</th>\n",
       "      <th>engine-location</th>\n",
       "      <th>engine-type</th>\n",
       "      <th>num-of-cylinders</th>\n",
       "      <th>fuel-system</th>\n",
       "    </tr>\n",
       "  </thead>\n",
       "  <tbody>\n",
       "    <tr>\n",
       "      <th>0</th>\n",
       "      <td>alfa-romero</td>\n",
       "      <td>gas</td>\n",
       "      <td>std</td>\n",
       "      <td>two</td>\n",
       "      <td>convertible</td>\n",
       "      <td>rwd</td>\n",
       "      <td>front</td>\n",
       "      <td>dohc</td>\n",
       "      <td>four</td>\n",
       "      <td>mpfi</td>\n",
       "    </tr>\n",
       "    <tr>\n",
       "      <th>1</th>\n",
       "      <td>alfa-romero</td>\n",
       "      <td>gas</td>\n",
       "      <td>std</td>\n",
       "      <td>two</td>\n",
       "      <td>convertible</td>\n",
       "      <td>rwd</td>\n",
       "      <td>front</td>\n",
       "      <td>dohc</td>\n",
       "      <td>four</td>\n",
       "      <td>mpfi</td>\n",
       "    </tr>\n",
       "    <tr>\n",
       "      <th>2</th>\n",
       "      <td>alfa-romero</td>\n",
       "      <td>gas</td>\n",
       "      <td>std</td>\n",
       "      <td>two</td>\n",
       "      <td>hatchback</td>\n",
       "      <td>rwd</td>\n",
       "      <td>front</td>\n",
       "      <td>ohcv</td>\n",
       "      <td>six</td>\n",
       "      <td>mpfi</td>\n",
       "    </tr>\n",
       "    <tr>\n",
       "      <th>3</th>\n",
       "      <td>audi</td>\n",
       "      <td>gas</td>\n",
       "      <td>std</td>\n",
       "      <td>four</td>\n",
       "      <td>sedan</td>\n",
       "      <td>fwd</td>\n",
       "      <td>front</td>\n",
       "      <td>ohc</td>\n",
       "      <td>four</td>\n",
       "      <td>mpfi</td>\n",
       "    </tr>\n",
       "    <tr>\n",
       "      <th>4</th>\n",
       "      <td>audi</td>\n",
       "      <td>gas</td>\n",
       "      <td>std</td>\n",
       "      <td>four</td>\n",
       "      <td>sedan</td>\n",
       "      <td>4wd</td>\n",
       "      <td>front</td>\n",
       "      <td>ohc</td>\n",
       "      <td>five</td>\n",
       "      <td>mpfi</td>\n",
       "    </tr>\n",
       "  </tbody>\n",
       "</table>\n",
       "</div>"
      ],
      "text/plain": [
       "          make fuel-type aspiration num-of-doors    bodystyle drivewheels  \\\n",
       "0  alfa-romero       gas        std          two  convertible         rwd   \n",
       "1  alfa-romero       gas        std          two  convertible         rwd   \n",
       "2  alfa-romero       gas        std          two    hatchback         rwd   \n",
       "3         audi       gas        std         four        sedan         fwd   \n",
       "4         audi       gas        std         four        sedan         4wd   \n",
       "\n",
       "  engine-location engine-type num-of-cylinders fuel-system  \n",
       "0           front        dohc             four        mpfi  \n",
       "1           front        dohc             four        mpfi  \n",
       "2           front        ohcv              six        mpfi  \n",
       "3           front         ohc             four        mpfi  \n",
       "4           front         ohc             five        mpfi  "
      ]
     },
     "execution_count": 28,
     "metadata": {},
     "output_type": "execute_result"
    }
   ],
   "source": [
    "df.select_dtypes(include=['object']).copy().head()"
   ]
  },
  {
   "cell_type": "markdown",
   "id": "imported-level",
   "metadata": {
    "papermill": {
     "duration": 0.085401,
     "end_time": "2021-05-06T07:19:15.926856",
     "exception": false,
     "start_time": "2021-05-06T07:19:15.841455",
     "status": "completed"
    },
    "tags": []
   },
   "source": [
    "## (a) Find and Replace: num-of-doors & num-of-cylinders\n",
    "There are two columns of data where the values are words used to represent numbers: the number of cylinders and number of doors on the car. "
   ]
  },
  {
   "cell_type": "code",
   "execution_count": 29,
   "id": "anticipated-motor",
   "metadata": {
    "execution": {
     "iopub.execute_input": "2021-05-06T07:19:16.117407Z",
     "iopub.status.busy": "2021-05-06T07:19:16.116557Z",
     "iopub.status.idle": "2021-05-06T07:19:16.120566Z",
     "shell.execute_reply": "2021-05-06T07:19:16.121154Z"
    },
    "papermill": {
     "duration": 0.103019,
     "end_time": "2021-05-06T07:19:16.121328",
     "exception": false,
     "start_time": "2021-05-06T07:19:16.018309",
     "status": "completed"
    },
    "tags": []
   },
   "outputs": [
    {
     "name": "stdout",
     "output_type": "stream",
     "text": [
      "four    113\n",
      "two      84\n",
      "Name: num-of-doors, dtype: int64\n",
      "four      153\n",
      "six        24\n",
      "five       10\n",
      "eight       4\n",
      "two         4\n",
      "three       1\n",
      "twelve      1\n",
      "Name: num-of-cylinders, dtype: int64\n"
     ]
    }
   ],
   "source": [
    "print(df[\"num-of-doors\"].value_counts())\n",
    "print(df[\"num-of-cylinders\"].value_counts())"
   ]
  },
  {
   "cell_type": "code",
   "execution_count": 30,
   "id": "smart-ordinance",
   "metadata": {
    "execution": {
     "iopub.execute_input": "2021-05-06T07:19:16.323550Z",
     "iopub.status.busy": "2021-05-06T07:19:16.318677Z",
     "iopub.status.idle": "2021-05-06T07:19:16.337454Z",
     "shell.execute_reply": "2021-05-06T07:19:16.336953Z"
    },
    "papermill": {
     "duration": 0.128972,
     "end_time": "2021-05-06T07:19:16.337597",
     "exception": false,
     "start_time": "2021-05-06T07:19:16.208625",
     "status": "completed"
    },
    "tags": []
   },
   "outputs": [
    {
     "data": {
      "text/html": [
       "<div>\n",
       "<style scoped>\n",
       "    .dataframe tbody tr th:only-of-type {\n",
       "        vertical-align: middle;\n",
       "    }\n",
       "\n",
       "    .dataframe tbody tr th {\n",
       "        vertical-align: top;\n",
       "    }\n",
       "\n",
       "    .dataframe thead th {\n",
       "        text-align: right;\n",
       "    }\n",
       "</style>\n",
       "<table border=\"1\" class=\"dataframe\">\n",
       "  <thead>\n",
       "    <tr style=\"text-align: right;\">\n",
       "      <th></th>\n",
       "      <th>symboling</th>\n",
       "      <th>normalizedlosses</th>\n",
       "      <th>make</th>\n",
       "      <th>fuel-type</th>\n",
       "      <th>aspiration</th>\n",
       "      <th>num-of-doors</th>\n",
       "      <th>bodystyle</th>\n",
       "      <th>drivewheels</th>\n",
       "      <th>engine-location</th>\n",
       "      <th>wheel-base</th>\n",
       "      <th>...</th>\n",
       "      <th>engine-size</th>\n",
       "      <th>fuel-system</th>\n",
       "      <th>bore</th>\n",
       "      <th>stroke</th>\n",
       "      <th>compression-ratio</th>\n",
       "      <th>horsepower</th>\n",
       "      <th>peakrpm</th>\n",
       "      <th>city-mpg</th>\n",
       "      <th>highway-mpg</th>\n",
       "      <th>price</th>\n",
       "    </tr>\n",
       "  </thead>\n",
       "  <tbody>\n",
       "    <tr>\n",
       "      <th>0</th>\n",
       "      <td>3</td>\n",
       "      <td>121.840491</td>\n",
       "      <td>alfa-romero</td>\n",
       "      <td>gas</td>\n",
       "      <td>std</td>\n",
       "      <td>2</td>\n",
       "      <td>convertible</td>\n",
       "      <td>rwd</td>\n",
       "      <td>front</td>\n",
       "      <td>88.6</td>\n",
       "      <td>...</td>\n",
       "      <td>130</td>\n",
       "      <td>mpfi</td>\n",
       "      <td>3.47</td>\n",
       "      <td>2.68</td>\n",
       "      <td>9.0</td>\n",
       "      <td>111.0</td>\n",
       "      <td>5000.0</td>\n",
       "      <td>21</td>\n",
       "      <td>27</td>\n",
       "      <td>13495.0</td>\n",
       "    </tr>\n",
       "    <tr>\n",
       "      <th>1</th>\n",
       "      <td>3</td>\n",
       "      <td>121.840491</td>\n",
       "      <td>alfa-romero</td>\n",
       "      <td>gas</td>\n",
       "      <td>std</td>\n",
       "      <td>2</td>\n",
       "      <td>convertible</td>\n",
       "      <td>rwd</td>\n",
       "      <td>front</td>\n",
       "      <td>88.6</td>\n",
       "      <td>...</td>\n",
       "      <td>130</td>\n",
       "      <td>mpfi</td>\n",
       "      <td>3.47</td>\n",
       "      <td>2.68</td>\n",
       "      <td>9.0</td>\n",
       "      <td>111.0</td>\n",
       "      <td>5000.0</td>\n",
       "      <td>21</td>\n",
       "      <td>27</td>\n",
       "      <td>16500.0</td>\n",
       "    </tr>\n",
       "    <tr>\n",
       "      <th>2</th>\n",
       "      <td>1</td>\n",
       "      <td>121.840491</td>\n",
       "      <td>alfa-romero</td>\n",
       "      <td>gas</td>\n",
       "      <td>std</td>\n",
       "      <td>2</td>\n",
       "      <td>hatchback</td>\n",
       "      <td>rwd</td>\n",
       "      <td>front</td>\n",
       "      <td>94.5</td>\n",
       "      <td>...</td>\n",
       "      <td>152</td>\n",
       "      <td>mpfi</td>\n",
       "      <td>2.68</td>\n",
       "      <td>3.47</td>\n",
       "      <td>9.0</td>\n",
       "      <td>154.0</td>\n",
       "      <td>5000.0</td>\n",
       "      <td>19</td>\n",
       "      <td>26</td>\n",
       "      <td>16500.0</td>\n",
       "    </tr>\n",
       "    <tr>\n",
       "      <th>3</th>\n",
       "      <td>2</td>\n",
       "      <td>164.000000</td>\n",
       "      <td>audi</td>\n",
       "      <td>gas</td>\n",
       "      <td>std</td>\n",
       "      <td>4</td>\n",
       "      <td>sedan</td>\n",
       "      <td>fwd</td>\n",
       "      <td>front</td>\n",
       "      <td>99.8</td>\n",
       "      <td>...</td>\n",
       "      <td>109</td>\n",
       "      <td>mpfi</td>\n",
       "      <td>3.19</td>\n",
       "      <td>3.40</td>\n",
       "      <td>10.0</td>\n",
       "      <td>102.0</td>\n",
       "      <td>5500.0</td>\n",
       "      <td>24</td>\n",
       "      <td>30</td>\n",
       "      <td>13950.0</td>\n",
       "    </tr>\n",
       "    <tr>\n",
       "      <th>4</th>\n",
       "      <td>2</td>\n",
       "      <td>164.000000</td>\n",
       "      <td>audi</td>\n",
       "      <td>gas</td>\n",
       "      <td>std</td>\n",
       "      <td>4</td>\n",
       "      <td>sedan</td>\n",
       "      <td>4wd</td>\n",
       "      <td>front</td>\n",
       "      <td>99.4</td>\n",
       "      <td>...</td>\n",
       "      <td>136</td>\n",
       "      <td>mpfi</td>\n",
       "      <td>3.19</td>\n",
       "      <td>3.40</td>\n",
       "      <td>8.0</td>\n",
       "      <td>115.0</td>\n",
       "      <td>5500.0</td>\n",
       "      <td>18</td>\n",
       "      <td>22</td>\n",
       "      <td>17450.0</td>\n",
       "    </tr>\n",
       "  </tbody>\n",
       "</table>\n",
       "<p>5 rows × 26 columns</p>\n",
       "</div>"
      ],
      "text/plain": [
       "   symboling  normalizedlosses         make fuel-type aspiration  \\\n",
       "0          3        121.840491  alfa-romero       gas        std   \n",
       "1          3        121.840491  alfa-romero       gas        std   \n",
       "2          1        121.840491  alfa-romero       gas        std   \n",
       "3          2        164.000000         audi       gas        std   \n",
       "4          2        164.000000         audi       gas        std   \n",
       "\n",
       "   num-of-doors    bodystyle drivewheels engine-location  wheel-base  ...  \\\n",
       "0             2  convertible         rwd           front        88.6  ...   \n",
       "1             2  convertible         rwd           front        88.6  ...   \n",
       "2             2    hatchback         rwd           front        94.5  ...   \n",
       "3             4        sedan         fwd           front        99.8  ...   \n",
       "4             4        sedan         4wd           front        99.4  ...   \n",
       "\n",
       "   engine-size  fuel-system  bore  stroke compression-ratio  horsepower  \\\n",
       "0          130         mpfi  3.47    2.68               9.0       111.0   \n",
       "1          130         mpfi  3.47    2.68               9.0       111.0   \n",
       "2          152         mpfi  2.68    3.47               9.0       154.0   \n",
       "3          109         mpfi  3.19    3.40              10.0       102.0   \n",
       "4          136         mpfi  3.19    3.40               8.0       115.0   \n",
       "\n",
       "   peakrpm city-mpg  highway-mpg    price  \n",
       "0   5000.0       21           27  13495.0  \n",
       "1   5000.0       21           27  16500.0  \n",
       "2   5000.0       19           26  16500.0  \n",
       "3   5500.0       24           30  13950.0  \n",
       "4   5500.0       18           22  17450.0  \n",
       "\n",
       "[5 rows x 26 columns]"
      ]
     },
     "execution_count": 30,
     "metadata": {},
     "output_type": "execute_result"
    }
   ],
   "source": [
    "cleanup_nums = {\"num-of-doors\":     {\"four\": 4, \"two\": 2},\n",
    "                \"num-of-cylinders\": {\"four\": 4, \"six\": 6, \"five\": 5, \"eight\": 8,\n",
    "                                  \"two\": 2, \"twelve\": 12, \"three\":3 }}\n",
    "df = df.replace(cleanup_nums)\n",
    "df.head()"
   ]
  },
  {
   "cell_type": "markdown",
   "id": "announced-reconstruction",
   "metadata": {
    "papermill": {
     "duration": 0.090812,
     "end_time": "2021-05-06T07:19:16.516142",
     "exception": false,
     "start_time": "2021-05-06T07:19:16.425330",
     "status": "completed"
    },
    "tags": []
   },
   "source": [
    "## (b) Dummy Variable Encoding for bodystyle column and drivewheels"
   ]
  },
  {
   "cell_type": "markdown",
   "id": "recorded-position",
   "metadata": {
    "papermill": {
     "duration": 0.086652,
     "end_time": "2021-05-06T07:19:16.692043",
     "exception": false,
     "start_time": "2021-05-06T07:19:16.605391",
     "status": "completed"
    },
    "tags": []
   },
   "source": [
    "Label encoding is simply converting each value in a column to a number."
   ]
  },
  {
   "cell_type": "code",
   "execution_count": 31,
   "id": "elegant-musician",
   "metadata": {
    "execution": {
     "iopub.execute_input": "2021-05-06T07:19:16.874905Z",
     "iopub.status.busy": "2021-05-06T07:19:16.874094Z",
     "iopub.status.idle": "2021-05-06T07:19:16.877570Z",
     "shell.execute_reply": "2021-05-06T07:19:16.878035Z"
    },
    "papermill": {
     "duration": 0.097793,
     "end_time": "2021-05-06T07:19:16.878206",
     "exception": false,
     "start_time": "2021-05-06T07:19:16.780413",
     "status": "completed"
    },
    "tags": []
   },
   "outputs": [
    {
     "name": "stdout",
     "output_type": "stream",
     "text": [
      "['convertible' 'hatchback' 'sedan' 'wagon' 'hardtop']\n",
      "['rwd' 'fwd' '4wd']\n"
     ]
    }
   ],
   "source": [
    "print(df['bodystyle'].unique())\n",
    "print(df['drivewheels'].unique())"
   ]
  },
  {
   "cell_type": "code",
   "execution_count": 32,
   "id": "broke-mortality",
   "metadata": {
    "execution": {
     "iopub.execute_input": "2021-05-06T07:19:17.064368Z",
     "iopub.status.busy": "2021-05-06T07:19:17.063332Z",
     "iopub.status.idle": "2021-05-06T07:19:17.097260Z",
     "shell.execute_reply": "2021-05-06T07:19:17.096616Z"
    },
    "papermill": {
     "duration": 0.131303,
     "end_time": "2021-05-06T07:19:17.097398",
     "exception": false,
     "start_time": "2021-05-06T07:19:16.966095",
     "status": "completed"
    },
    "tags": []
   },
   "outputs": [
    {
     "data": {
      "text/html": [
       "<div>\n",
       "<style scoped>\n",
       "    .dataframe tbody tr th:only-of-type {\n",
       "        vertical-align: middle;\n",
       "    }\n",
       "\n",
       "    .dataframe tbody tr th {\n",
       "        vertical-align: top;\n",
       "    }\n",
       "\n",
       "    .dataframe thead th {\n",
       "        text-align: right;\n",
       "    }\n",
       "</style>\n",
       "<table border=\"1\" class=\"dataframe\">\n",
       "  <thead>\n",
       "    <tr style=\"text-align: right;\">\n",
       "      <th></th>\n",
       "      <th>symboling</th>\n",
       "      <th>normalizedlosses</th>\n",
       "      <th>make</th>\n",
       "      <th>fuel-type</th>\n",
       "      <th>aspiration</th>\n",
       "      <th>num-of-doors</th>\n",
       "      <th>engine-location</th>\n",
       "      <th>wheel-base</th>\n",
       "      <th>length</th>\n",
       "      <th>width</th>\n",
       "      <th>...</th>\n",
       "      <th>peakrpm</th>\n",
       "      <th>city-mpg</th>\n",
       "      <th>highway-mpg</th>\n",
       "      <th>price</th>\n",
       "      <th>body_hardtop</th>\n",
       "      <th>body_hatchback</th>\n",
       "      <th>body_sedan</th>\n",
       "      <th>body_wagon</th>\n",
       "      <th>drive_fwd</th>\n",
       "      <th>drive_rwd</th>\n",
       "    </tr>\n",
       "  </thead>\n",
       "  <tbody>\n",
       "    <tr>\n",
       "      <th>0</th>\n",
       "      <td>3</td>\n",
       "      <td>121.840491</td>\n",
       "      <td>alfa-romero</td>\n",
       "      <td>gas</td>\n",
       "      <td>std</td>\n",
       "      <td>2</td>\n",
       "      <td>front</td>\n",
       "      <td>88.6</td>\n",
       "      <td>168.8</td>\n",
       "      <td>64.1</td>\n",
       "      <td>...</td>\n",
       "      <td>5000.0</td>\n",
       "      <td>21</td>\n",
       "      <td>27</td>\n",
       "      <td>13495.0</td>\n",
       "      <td>0</td>\n",
       "      <td>0</td>\n",
       "      <td>0</td>\n",
       "      <td>0</td>\n",
       "      <td>0</td>\n",
       "      <td>1</td>\n",
       "    </tr>\n",
       "    <tr>\n",
       "      <th>1</th>\n",
       "      <td>3</td>\n",
       "      <td>121.840491</td>\n",
       "      <td>alfa-romero</td>\n",
       "      <td>gas</td>\n",
       "      <td>std</td>\n",
       "      <td>2</td>\n",
       "      <td>front</td>\n",
       "      <td>88.6</td>\n",
       "      <td>168.8</td>\n",
       "      <td>64.1</td>\n",
       "      <td>...</td>\n",
       "      <td>5000.0</td>\n",
       "      <td>21</td>\n",
       "      <td>27</td>\n",
       "      <td>16500.0</td>\n",
       "      <td>0</td>\n",
       "      <td>0</td>\n",
       "      <td>0</td>\n",
       "      <td>0</td>\n",
       "      <td>0</td>\n",
       "      <td>1</td>\n",
       "    </tr>\n",
       "    <tr>\n",
       "      <th>2</th>\n",
       "      <td>1</td>\n",
       "      <td>121.840491</td>\n",
       "      <td>alfa-romero</td>\n",
       "      <td>gas</td>\n",
       "      <td>std</td>\n",
       "      <td>2</td>\n",
       "      <td>front</td>\n",
       "      <td>94.5</td>\n",
       "      <td>171.2</td>\n",
       "      <td>65.5</td>\n",
       "      <td>...</td>\n",
       "      <td>5000.0</td>\n",
       "      <td>19</td>\n",
       "      <td>26</td>\n",
       "      <td>16500.0</td>\n",
       "      <td>0</td>\n",
       "      <td>1</td>\n",
       "      <td>0</td>\n",
       "      <td>0</td>\n",
       "      <td>0</td>\n",
       "      <td>1</td>\n",
       "    </tr>\n",
       "    <tr>\n",
       "      <th>3</th>\n",
       "      <td>2</td>\n",
       "      <td>164.000000</td>\n",
       "      <td>audi</td>\n",
       "      <td>gas</td>\n",
       "      <td>std</td>\n",
       "      <td>4</td>\n",
       "      <td>front</td>\n",
       "      <td>99.8</td>\n",
       "      <td>176.6</td>\n",
       "      <td>66.2</td>\n",
       "      <td>...</td>\n",
       "      <td>5500.0</td>\n",
       "      <td>24</td>\n",
       "      <td>30</td>\n",
       "      <td>13950.0</td>\n",
       "      <td>0</td>\n",
       "      <td>0</td>\n",
       "      <td>1</td>\n",
       "      <td>0</td>\n",
       "      <td>1</td>\n",
       "      <td>0</td>\n",
       "    </tr>\n",
       "    <tr>\n",
       "      <th>4</th>\n",
       "      <td>2</td>\n",
       "      <td>164.000000</td>\n",
       "      <td>audi</td>\n",
       "      <td>gas</td>\n",
       "      <td>std</td>\n",
       "      <td>4</td>\n",
       "      <td>front</td>\n",
       "      <td>99.4</td>\n",
       "      <td>176.6</td>\n",
       "      <td>66.4</td>\n",
       "      <td>...</td>\n",
       "      <td>5500.0</td>\n",
       "      <td>18</td>\n",
       "      <td>22</td>\n",
       "      <td>17450.0</td>\n",
       "      <td>0</td>\n",
       "      <td>0</td>\n",
       "      <td>1</td>\n",
       "      <td>0</td>\n",
       "      <td>0</td>\n",
       "      <td>0</td>\n",
       "    </tr>\n",
       "  </tbody>\n",
       "</table>\n",
       "<p>5 rows × 30 columns</p>\n",
       "</div>"
      ],
      "text/plain": [
       "   symboling  normalizedlosses         make fuel-type aspiration  \\\n",
       "0          3        121.840491  alfa-romero       gas        std   \n",
       "1          3        121.840491  alfa-romero       gas        std   \n",
       "2          1        121.840491  alfa-romero       gas        std   \n",
       "3          2        164.000000         audi       gas        std   \n",
       "4          2        164.000000         audi       gas        std   \n",
       "\n",
       "   num-of-doors engine-location  wheel-base  length  width  ...  peakrpm  \\\n",
       "0             2           front        88.6   168.8   64.1  ...   5000.0   \n",
       "1             2           front        88.6   168.8   64.1  ...   5000.0   \n",
       "2             2           front        94.5   171.2   65.5  ...   5000.0   \n",
       "3             4           front        99.8   176.6   66.2  ...   5500.0   \n",
       "4             4           front        99.4   176.6   66.4  ...   5500.0   \n",
       "\n",
       "   city-mpg highway-mpg    price  body_hardtop body_hatchback  body_sedan  \\\n",
       "0        21          27  13495.0             0              0           0   \n",
       "1        21          27  16500.0             0              0           0   \n",
       "2        19          26  16500.0             0              1           0   \n",
       "3        24          30  13950.0             0              0           1   \n",
       "4        18          22  17450.0             0              0           1   \n",
       "\n",
       "   body_wagon  drive_fwd  drive_rwd  \n",
       "0           0          0          1  \n",
       "1           0          0          1  \n",
       "2           0          0          1  \n",
       "3           0          1          0  \n",
       "4           0          0          0  \n",
       "\n",
       "[5 rows x 30 columns]"
      ]
     },
     "execution_count": 32,
     "metadata": {},
     "output_type": "execute_result"
    }
   ],
   "source": [
    "df = pd.get_dummies(df, columns=[\"bodystyle\", \"drivewheels\"], prefix=[\"body\", \"drive\"],drop_first=True)\n",
    "df.head()"
   ]
  },
  {
   "cell_type": "markdown",
   "id": "desirable-monitoring",
   "metadata": {
    "papermill": {
     "duration": 0.087058,
     "end_time": "2021-05-06T07:19:17.272043",
     "exception": false,
     "start_time": "2021-05-06T07:19:17.184985",
     "status": "completed"
    },
    "tags": []
   },
   "source": [
    "## (c) Custom Binary Encoding for engine-type"
   ]
  },
  {
   "cell_type": "code",
   "execution_count": 33,
   "id": "compliant-lecture",
   "metadata": {
    "execution": {
     "iopub.execute_input": "2021-05-06T07:19:17.455186Z",
     "iopub.status.busy": "2021-05-06T07:19:17.454551Z",
     "iopub.status.idle": "2021-05-06T07:19:17.458638Z",
     "shell.execute_reply": "2021-05-06T07:19:17.459224Z"
    },
    "papermill": {
     "duration": 0.099679,
     "end_time": "2021-05-06T07:19:17.459407",
     "exception": false,
     "start_time": "2021-05-06T07:19:17.359728",
     "status": "completed"
    },
    "tags": []
   },
   "outputs": [
    {
     "data": {
      "text/plain": [
       "ohc      143\n",
       "ohcf      15\n",
       "ohcv      13\n",
       "l         12\n",
       "dohc      10\n",
       "rotor      4\n",
       "Name: engine-type, dtype: int64"
      ]
     },
     "execution_count": 33,
     "metadata": {},
     "output_type": "execute_result"
    }
   ],
   "source": [
    "df[\"engine-type\"].value_counts()"
   ]
  },
  {
   "cell_type": "markdown",
   "id": "handmade-territory",
   "metadata": {
    "papermill": {
     "duration": 0.087923,
     "end_time": "2021-05-06T07:19:17.637967",
     "exception": false,
     "start_time": "2021-05-06T07:19:17.550044",
     "status": "completed"
    },
    "tags": []
   },
   "source": [
    "For the sake of discussion, maybe all we care about is whether or not the engine is an Overhead Cam (OHC) or not. In other words, the various versions of OHC are all the same for this analysis."
   ]
  },
  {
   "cell_type": "code",
   "execution_count": 34,
   "id": "peripheral-diagram",
   "metadata": {
    "execution": {
     "iopub.execute_input": "2021-05-06T07:19:17.823190Z",
     "iopub.status.busy": "2021-05-06T07:19:17.822452Z",
     "iopub.status.idle": "2021-05-06T07:19:17.832627Z",
     "shell.execute_reply": "2021-05-06T07:19:17.833142Z"
    },
    "papermill": {
     "duration": 0.106402,
     "end_time": "2021-05-06T07:19:17.833322",
     "exception": false,
     "start_time": "2021-05-06T07:19:17.726920",
     "status": "completed"
    },
    "tags": []
   },
   "outputs": [
    {
     "data": {
      "text/html": [
       "<div>\n",
       "<style scoped>\n",
       "    .dataframe tbody tr th:only-of-type {\n",
       "        vertical-align: middle;\n",
       "    }\n",
       "\n",
       "    .dataframe tbody tr th {\n",
       "        vertical-align: top;\n",
       "    }\n",
       "\n",
       "    .dataframe thead th {\n",
       "        text-align: right;\n",
       "    }\n",
       "</style>\n",
       "<table border=\"1\" class=\"dataframe\">\n",
       "  <thead>\n",
       "    <tr style=\"text-align: right;\">\n",
       "      <th></th>\n",
       "      <th>make</th>\n",
       "      <th>engine-type</th>\n",
       "      <th>OHC_Code</th>\n",
       "    </tr>\n",
       "  </thead>\n",
       "  <tbody>\n",
       "    <tr>\n",
       "      <th>0</th>\n",
       "      <td>alfa-romero</td>\n",
       "      <td>dohc</td>\n",
       "      <td>1</td>\n",
       "    </tr>\n",
       "    <tr>\n",
       "      <th>1</th>\n",
       "      <td>alfa-romero</td>\n",
       "      <td>dohc</td>\n",
       "      <td>1</td>\n",
       "    </tr>\n",
       "    <tr>\n",
       "      <th>2</th>\n",
       "      <td>alfa-romero</td>\n",
       "      <td>ohcv</td>\n",
       "      <td>1</td>\n",
       "    </tr>\n",
       "    <tr>\n",
       "      <th>3</th>\n",
       "      <td>audi</td>\n",
       "      <td>ohc</td>\n",
       "      <td>1</td>\n",
       "    </tr>\n",
       "    <tr>\n",
       "      <th>4</th>\n",
       "      <td>audi</td>\n",
       "      <td>ohc</td>\n",
       "      <td>1</td>\n",
       "    </tr>\n",
       "  </tbody>\n",
       "</table>\n",
       "</div>"
      ],
      "text/plain": [
       "          make engine-type  OHC_Code\n",
       "0  alfa-romero        dohc         1\n",
       "1  alfa-romero        dohc         1\n",
       "2  alfa-romero        ohcv         1\n",
       "3         audi         ohc         1\n",
       "4         audi         ohc         1"
      ]
     },
     "execution_count": 34,
     "metadata": {},
     "output_type": "execute_result"
    }
   ],
   "source": [
    "df[\"OHC_Code\"] = np.where(df[\"engine-type\"].str.contains(\"ohc\"), 1, 0)\n",
    "df[[\"make\", \"engine-type\", \"OHC_Code\"]].head()"
   ]
  },
  {
   "cell_type": "markdown",
   "id": "critical-orange",
   "metadata": {
    "papermill": {
     "duration": 0.096191,
     "end_time": "2021-05-06T07:19:18.018680",
     "exception": false,
     "start_time": "2021-05-06T07:19:17.922489",
     "status": "completed"
    },
    "tags": []
   },
   "source": [
    "## (d) Ordinal Encoding for make column"
   ]
  },
  {
   "cell_type": "code",
   "execution_count": 35,
   "id": "developmental-fitness",
   "metadata": {
    "execution": {
     "iopub.execute_input": "2021-05-06T07:19:18.215227Z",
     "iopub.status.busy": "2021-05-06T07:19:18.214115Z",
     "iopub.status.idle": "2021-05-06T07:19:18.218621Z",
     "shell.execute_reply": "2021-05-06T07:19:18.218072Z"
    },
    "papermill": {
     "duration": 0.109631,
     "end_time": "2021-05-06T07:19:18.218758",
     "exception": false,
     "start_time": "2021-05-06T07:19:18.109127",
     "status": "completed"
    },
    "tags": []
   },
   "outputs": [
    {
     "data": {
      "text/html": [
       "<div>\n",
       "<style scoped>\n",
       "    .dataframe tbody tr th:only-of-type {\n",
       "        vertical-align: middle;\n",
       "    }\n",
       "\n",
       "    .dataframe tbody tr th {\n",
       "        vertical-align: top;\n",
       "    }\n",
       "\n",
       "    .dataframe thead th {\n",
       "        text-align: right;\n",
       "    }\n",
       "</style>\n",
       "<table border=\"1\" class=\"dataframe\">\n",
       "  <thead>\n",
       "    <tr style=\"text-align: right;\">\n",
       "      <th></th>\n",
       "      <th>make</th>\n",
       "      <th>make_code</th>\n",
       "    </tr>\n",
       "  </thead>\n",
       "  <tbody>\n",
       "    <tr>\n",
       "      <th>0</th>\n",
       "      <td>alfa-romero</td>\n",
       "      <td>0.0</td>\n",
       "    </tr>\n",
       "    <tr>\n",
       "      <th>1</th>\n",
       "      <td>alfa-romero</td>\n",
       "      <td>0.0</td>\n",
       "    </tr>\n",
       "    <tr>\n",
       "      <th>2</th>\n",
       "      <td>alfa-romero</td>\n",
       "      <td>0.0</td>\n",
       "    </tr>\n",
       "    <tr>\n",
       "      <th>3</th>\n",
       "      <td>audi</td>\n",
       "      <td>1.0</td>\n",
       "    </tr>\n",
       "    <tr>\n",
       "      <th>4</th>\n",
       "      <td>audi</td>\n",
       "      <td>1.0</td>\n",
       "    </tr>\n",
       "    <tr>\n",
       "      <th>5</th>\n",
       "      <td>audi</td>\n",
       "      <td>1.0</td>\n",
       "    </tr>\n",
       "    <tr>\n",
       "      <th>6</th>\n",
       "      <td>audi</td>\n",
       "      <td>1.0</td>\n",
       "    </tr>\n",
       "    <tr>\n",
       "      <th>7</th>\n",
       "      <td>audi</td>\n",
       "      <td>1.0</td>\n",
       "    </tr>\n",
       "    <tr>\n",
       "      <th>8</th>\n",
       "      <td>audi</td>\n",
       "      <td>1.0</td>\n",
       "    </tr>\n",
       "    <tr>\n",
       "      <th>10</th>\n",
       "      <td>bmw</td>\n",
       "      <td>2.0</td>\n",
       "    </tr>\n",
       "    <tr>\n",
       "      <th>11</th>\n",
       "      <td>bmw</td>\n",
       "      <td>2.0</td>\n",
       "    </tr>\n",
       "  </tbody>\n",
       "</table>\n",
       "</div>"
      ],
      "text/plain": [
       "           make  make_code\n",
       "0   alfa-romero        0.0\n",
       "1   alfa-romero        0.0\n",
       "2   alfa-romero        0.0\n",
       "3          audi        1.0\n",
       "4          audi        1.0\n",
       "5          audi        1.0\n",
       "6          audi        1.0\n",
       "7          audi        1.0\n",
       "8          audi        1.0\n",
       "10          bmw        2.0\n",
       "11          bmw        2.0"
      ]
     },
     "execution_count": 35,
     "metadata": {},
     "output_type": "execute_result"
    }
   ],
   "source": [
    "from sklearn.preprocessing import OrdinalEncoder\n",
    "\n",
    "ord_enc = OrdinalEncoder()\n",
    "df[\"make_code\"] = ord_enc.fit_transform(df[[\"make\"]])\n",
    "df[[\"make\", \"make_code\"]].head(11)"
   ]
  },
  {
   "cell_type": "code",
   "execution_count": 36,
   "id": "shaped-pledge",
   "metadata": {
    "execution": {
     "iopub.execute_input": "2021-05-06T07:19:18.404619Z",
     "iopub.status.busy": "2021-05-06T07:19:18.403934Z",
     "iopub.status.idle": "2021-05-06T07:19:18.407281Z",
     "shell.execute_reply": "2021-05-06T07:19:18.407745Z"
    },
    "papermill": {
     "duration": 0.099249,
     "end_time": "2021-05-06T07:19:18.407953",
     "exception": false,
     "start_time": "2021-05-06T07:19:18.308704",
     "status": "completed"
    },
    "tags": []
   },
   "outputs": [
    {
     "name": "stdout",
     "output_type": "stream",
     "text": [
      "Index(['symboling', 'normalizedlosses', 'make', 'fuel-type', 'aspiration',\n",
      "       'num-of-doors', 'engine-location', 'wheel-base', 'length', 'width',\n",
      "       'height', 'curb-weight', 'engine-type', 'num-of-cylinders',\n",
      "       'engine-size', 'fuel-system', 'bore', 'stroke', 'compression-ratio',\n",
      "       'horsepower', 'peakrpm', 'city-mpg', 'highway-mpg', 'price',\n",
      "       'body_hardtop', 'body_hatchback', 'body_sedan', 'body_wagon',\n",
      "       'drive_fwd', 'drive_rwd', 'OHC_Code', 'make_code'],\n",
      "      dtype='object')\n"
     ]
    }
   ],
   "source": [
    "print(df.columns)"
   ]
  },
  {
   "cell_type": "markdown",
   "id": "divine-landing",
   "metadata": {
    "papermill": {
     "duration": 0.091781,
     "end_time": "2021-05-06T07:19:18.590119",
     "exception": false,
     "start_time": "2021-05-06T07:19:18.498338",
     "status": "completed"
    },
    "tags": []
   },
   "source": [
    "# **Selecting Necessary Columns for ML Model**"
   ]
  },
  {
   "cell_type": "code",
   "execution_count": 37,
   "id": "gorgeous-distribution",
   "metadata": {
    "execution": {
     "iopub.execute_input": "2021-05-06T07:19:18.779018Z",
     "iopub.status.busy": "2021-05-06T07:19:18.778098Z",
     "iopub.status.idle": "2021-05-06T07:19:18.782299Z",
     "shell.execute_reply": "2021-05-06T07:19:18.781795Z"
    },
    "papermill": {
     "duration": 0.101885,
     "end_time": "2021-05-06T07:19:18.782439",
     "exception": false,
     "start_time": "2021-05-06T07:19:18.680554",
     "status": "completed"
    },
    "tags": []
   },
   "outputs": [
    {
     "data": {
      "text/plain": [
       "['symboling',\n",
       " 'normalizedlosses',\n",
       " 'num-of-doors',\n",
       " 'wheel-base',\n",
       " 'length',\n",
       " 'width',\n",
       " 'height',\n",
       " 'curb-weight',\n",
       " 'num-of-cylinders',\n",
       " 'engine-size',\n",
       " 'bore',\n",
       " 'stroke',\n",
       " 'compression-ratio',\n",
       " 'horsepower',\n",
       " 'peakrpm',\n",
       " 'city-mpg',\n",
       " 'highway-mpg',\n",
       " 'price',\n",
       " 'body_hardtop',\n",
       " 'body_hatchback',\n",
       " 'body_sedan',\n",
       " 'body_wagon',\n",
       " 'drive_fwd',\n",
       " 'drive_rwd',\n",
       " 'OHC_Code',\n",
       " 'make_code']"
      ]
     },
     "execution_count": 37,
     "metadata": {},
     "output_type": "execute_result"
    }
   ],
   "source": [
    "df.select_dtypes(include=np.number).columns.tolist()"
   ]
  },
  {
   "cell_type": "code",
   "execution_count": 38,
   "id": "sitting-noise",
   "metadata": {
    "execution": {
     "iopub.execute_input": "2021-05-06T07:19:18.981069Z",
     "iopub.status.busy": "2021-05-06T07:19:18.980255Z",
     "iopub.status.idle": "2021-05-06T07:19:18.984448Z",
     "shell.execute_reply": "2021-05-06T07:19:18.983964Z"
    },
    "papermill": {
     "duration": 0.111995,
     "end_time": "2021-05-06T07:19:18.984587",
     "exception": false,
     "start_time": "2021-05-06T07:19:18.872592",
     "status": "completed"
    },
    "tags": []
   },
   "outputs": [
    {
     "name": "stdout",
     "output_type": "stream",
     "text": [
      "<class 'pandas.core.frame.DataFrame'>\n",
      "Int64Index: 197 entries, 0 to 204\n",
      "Data columns (total 26 columns):\n",
      " #   Column             Non-Null Count  Dtype  \n",
      "---  ------             --------------  -----  \n",
      " 0   symboling          197 non-null    int64  \n",
      " 1   normalizedlosses   197 non-null    float64\n",
      " 2   wheel-base         197 non-null    float64\n",
      " 3   length             197 non-null    float64\n",
      " 4   width              197 non-null    float64\n",
      " 5   height             197 non-null    float64\n",
      " 6   curb-weight        197 non-null    int64  \n",
      " 7   engine-size        197 non-null    int64  \n",
      " 8   bore               197 non-null    float64\n",
      " 9   stroke             197 non-null    float64\n",
      " 10  compression-ratio  197 non-null    float64\n",
      " 11  horsepower         197 non-null    float64\n",
      " 12  peakrpm            197 non-null    float64\n",
      " 13  city-mpg           197 non-null    int64  \n",
      " 14  highway-mpg        197 non-null    int64  \n",
      " 15  price              197 non-null    float64\n",
      " 16  num-of-doors       197 non-null    int64  \n",
      " 17  num-of-cylinders   197 non-null    int64  \n",
      " 18  body_hardtop       197 non-null    uint8  \n",
      " 19  body_hatchback     197 non-null    uint8  \n",
      " 20  body_sedan         197 non-null    uint8  \n",
      " 21  body_wagon         197 non-null    uint8  \n",
      " 22  drive_fwd          197 non-null    uint8  \n",
      " 23  drive_rwd          197 non-null    uint8  \n",
      " 24  OHC_Code           197 non-null    int32  \n",
      " 25  make_code          197 non-null    float64\n",
      "dtypes: float64(12), int32(1), int64(7), uint8(6)\n",
      "memory usage: 32.7 KB\n"
     ]
    }
   ],
   "source": [
    "feed = df[['symboling', 'normalizedlosses', 'wheel-base', 'length', 'width', 'height', 'curb-weight', 'engine-size', 'bore', 'stroke', \n",
    "           'compression-ratio', 'horsepower', 'peakrpm', 'city-mpg', 'highway-mpg', 'price', 'num-of-doors', 'num-of-cylinders', \n",
    "           'body_hardtop', 'body_hatchback', 'body_sedan', 'body_wagon', 'drive_fwd', 'drive_rwd', 'OHC_Code', 'make_code']]\n",
    "feed.info()"
   ]
  },
  {
   "cell_type": "markdown",
   "id": "marked-modeling",
   "metadata": {
    "papermill": {
     "duration": 0.089978,
     "end_time": "2021-05-06T07:19:19.166066",
     "exception": false,
     "start_time": "2021-05-06T07:19:19.076088",
     "status": "completed"
    },
    "tags": []
   },
   "source": [
    "**Now we'll fit our linear regression & Gradient Boosting Regressor models on these numerical variables.**"
   ]
  },
  {
   "cell_type": "markdown",
   "id": "practical-hacker",
   "metadata": {
    "papermill": {
     "duration": 0.090459,
     "end_time": "2021-05-06T07:19:19.348674",
     "exception": false,
     "start_time": "2021-05-06T07:19:19.258215",
     "status": "completed"
    },
    "tags": []
   },
   "source": [
    "# **6. Building Machine Learning Model** 🤖"
   ]
  },
  {
   "cell_type": "markdown",
   "id": "collective-archives",
   "metadata": {
    "papermill": {
     "duration": 0.091205,
     "end_time": "2021-05-06T07:19:19.530932",
     "exception": false,
     "start_time": "2021-05-06T07:19:19.439727",
     "status": "completed"
    },
    "tags": []
   },
   "source": [
    "## (a) Preparing Training and Testing datasets"
   ]
  },
  {
   "cell_type": "code",
   "execution_count": 39,
   "id": "corporate-banks",
   "metadata": {
    "execution": {
     "iopub.execute_input": "2021-05-06T07:19:19.742796Z",
     "iopub.status.busy": "2021-05-06T07:19:19.741058Z",
     "iopub.status.idle": "2021-05-06T07:19:19.813355Z",
     "shell.execute_reply": "2021-05-06T07:19:19.812859Z"
    },
    "papermill": {
     "duration": 0.190598,
     "end_time": "2021-05-06T07:19:19.813497",
     "exception": false,
     "start_time": "2021-05-06T07:19:19.622899",
     "status": "completed"
    },
    "tags": []
   },
   "outputs": [
    {
     "data": {
      "text/html": [
       "<div>\n",
       "<style scoped>\n",
       "    .dataframe tbody tr th:only-of-type {\n",
       "        vertical-align: middle;\n",
       "    }\n",
       "\n",
       "    .dataframe tbody tr th {\n",
       "        vertical-align: top;\n",
       "    }\n",
       "\n",
       "    .dataframe thead th {\n",
       "        text-align: right;\n",
       "    }\n",
       "</style>\n",
       "<table border=\"1\" class=\"dataframe\">\n",
       "  <thead>\n",
       "    <tr style=\"text-align: right;\">\n",
       "      <th></th>\n",
       "      <th>symboling</th>\n",
       "      <th>normalizedlosses</th>\n",
       "      <th>wheel-base</th>\n",
       "      <th>length</th>\n",
       "      <th>width</th>\n",
       "      <th>height</th>\n",
       "      <th>curb-weight</th>\n",
       "      <th>engine-size</th>\n",
       "      <th>bore</th>\n",
       "      <th>stroke</th>\n",
       "      <th>...</th>\n",
       "      <th>num-of-doors</th>\n",
       "      <th>num-of-cylinders</th>\n",
       "      <th>body_hardtop</th>\n",
       "      <th>body_hatchback</th>\n",
       "      <th>body_sedan</th>\n",
       "      <th>body_wagon</th>\n",
       "      <th>drive_fwd</th>\n",
       "      <th>drive_rwd</th>\n",
       "      <th>OHC_Code</th>\n",
       "      <th>make_code</th>\n",
       "    </tr>\n",
       "  </thead>\n",
       "  <tbody>\n",
       "    <tr>\n",
       "      <th>count</th>\n",
       "      <td>197.000000</td>\n",
       "      <td>197.000000</td>\n",
       "      <td>197.000000</td>\n",
       "      <td>197.000000</td>\n",
       "      <td>197.000000</td>\n",
       "      <td>197.000000</td>\n",
       "      <td>197.000000</td>\n",
       "      <td>197.000000</td>\n",
       "      <td>197.000000</td>\n",
       "      <td>197.000000</td>\n",
       "      <td>...</td>\n",
       "      <td>197.000000</td>\n",
       "      <td>197.000000</td>\n",
       "      <td>197.000000</td>\n",
       "      <td>197.000000</td>\n",
       "      <td>197.000000</td>\n",
       "      <td>197.000000</td>\n",
       "      <td>197.000000</td>\n",
       "      <td>197.000000</td>\n",
       "      <td>197.000000</td>\n",
       "      <td>197.000000</td>\n",
       "    </tr>\n",
       "    <tr>\n",
       "      <th>mean</th>\n",
       "      <td>0.842640</td>\n",
       "      <td>120.127050</td>\n",
       "      <td>98.866497</td>\n",
       "      <td>174.324365</td>\n",
       "      <td>65.915736</td>\n",
       "      <td>53.785787</td>\n",
       "      <td>2560.862944</td>\n",
       "      <td>127.340102</td>\n",
       "      <td>3.332882</td>\n",
       "      <td>3.257321</td>\n",
       "      <td>...</td>\n",
       "      <td>3.147208</td>\n",
       "      <td>4.370558</td>\n",
       "      <td>0.040609</td>\n",
       "      <td>0.340102</td>\n",
       "      <td>0.461929</td>\n",
       "      <td>0.126904</td>\n",
       "      <td>0.588832</td>\n",
       "      <td>0.370558</td>\n",
       "      <td>0.918782</td>\n",
       "      <td>12.294416</td>\n",
       "    </tr>\n",
       "    <tr>\n",
       "      <th>std</th>\n",
       "      <td>1.265963</td>\n",
       "      <td>29.391750</td>\n",
       "      <td>6.101313</td>\n",
       "      <td>12.372840</td>\n",
       "      <td>2.108318</td>\n",
       "      <td>2.456292</td>\n",
       "      <td>521.077834</td>\n",
       "      <td>41.812276</td>\n",
       "      <td>0.269743</td>\n",
       "      <td>0.318472</td>\n",
       "      <td>...</td>\n",
       "      <td>0.991626</td>\n",
       "      <td>1.068924</td>\n",
       "      <td>0.197886</td>\n",
       "      <td>0.474950</td>\n",
       "      <td>0.499819</td>\n",
       "      <td>0.333713</td>\n",
       "      <td>0.493299</td>\n",
       "      <td>0.484185</td>\n",
       "      <td>0.273866</td>\n",
       "      <td>6.244558</td>\n",
       "    </tr>\n",
       "    <tr>\n",
       "      <th>min</th>\n",
       "      <td>-2.000000</td>\n",
       "      <td>65.000000</td>\n",
       "      <td>86.600000</td>\n",
       "      <td>141.100000</td>\n",
       "      <td>60.300000</td>\n",
       "      <td>47.800000</td>\n",
       "      <td>1488.000000</td>\n",
       "      <td>61.000000</td>\n",
       "      <td>2.540000</td>\n",
       "      <td>2.070000</td>\n",
       "      <td>...</td>\n",
       "      <td>2.000000</td>\n",
       "      <td>2.000000</td>\n",
       "      <td>0.000000</td>\n",
       "      <td>0.000000</td>\n",
       "      <td>0.000000</td>\n",
       "      <td>0.000000</td>\n",
       "      <td>0.000000</td>\n",
       "      <td>0.000000</td>\n",
       "      <td>0.000000</td>\n",
       "      <td>0.000000</td>\n",
       "    </tr>\n",
       "    <tr>\n",
       "      <th>25%</th>\n",
       "      <td>0.000000</td>\n",
       "      <td>98.000000</td>\n",
       "      <td>94.500000</td>\n",
       "      <td>166.800000</td>\n",
       "      <td>64.200000</td>\n",
       "      <td>52.000000</td>\n",
       "      <td>2145.000000</td>\n",
       "      <td>97.000000</td>\n",
       "      <td>3.150000</td>\n",
       "      <td>3.120000</td>\n",
       "      <td>...</td>\n",
       "      <td>2.000000</td>\n",
       "      <td>4.000000</td>\n",
       "      <td>0.000000</td>\n",
       "      <td>0.000000</td>\n",
       "      <td>0.000000</td>\n",
       "      <td>0.000000</td>\n",
       "      <td>0.000000</td>\n",
       "      <td>0.000000</td>\n",
       "      <td>1.000000</td>\n",
       "      <td>8.000000</td>\n",
       "    </tr>\n",
       "    <tr>\n",
       "      <th>50%</th>\n",
       "      <td>1.000000</td>\n",
       "      <td>121.840491</td>\n",
       "      <td>97.000000</td>\n",
       "      <td>173.200000</td>\n",
       "      <td>65.500000</td>\n",
       "      <td>54.100000</td>\n",
       "      <td>2420.000000</td>\n",
       "      <td>120.000000</td>\n",
       "      <td>3.330000</td>\n",
       "      <td>3.290000</td>\n",
       "      <td>...</td>\n",
       "      <td>4.000000</td>\n",
       "      <td>4.000000</td>\n",
       "      <td>0.000000</td>\n",
       "      <td>0.000000</td>\n",
       "      <td>0.000000</td>\n",
       "      <td>0.000000</td>\n",
       "      <td>1.000000</td>\n",
       "      <td>0.000000</td>\n",
       "      <td>1.000000</td>\n",
       "      <td>12.000000</td>\n",
       "    </tr>\n",
       "    <tr>\n",
       "      <th>75%</th>\n",
       "      <td>2.000000</td>\n",
       "      <td>134.000000</td>\n",
       "      <td>102.400000</td>\n",
       "      <td>183.500000</td>\n",
       "      <td>66.900000</td>\n",
       "      <td>55.600000</td>\n",
       "      <td>2935.000000</td>\n",
       "      <td>145.000000</td>\n",
       "      <td>3.590000</td>\n",
       "      <td>3.410000</td>\n",
       "      <td>...</td>\n",
       "      <td>4.000000</td>\n",
       "      <td>4.000000</td>\n",
       "      <td>0.000000</td>\n",
       "      <td>1.000000</td>\n",
       "      <td>1.000000</td>\n",
       "      <td>0.000000</td>\n",
       "      <td>1.000000</td>\n",
       "      <td>1.000000</td>\n",
       "      <td>1.000000</td>\n",
       "      <td>19.000000</td>\n",
       "    </tr>\n",
       "    <tr>\n",
       "      <th>max</th>\n",
       "      <td>3.000000</td>\n",
       "      <td>197.000000</td>\n",
       "      <td>120.900000</td>\n",
       "      <td>208.100000</td>\n",
       "      <td>72.000000</td>\n",
       "      <td>59.800000</td>\n",
       "      <td>4066.000000</td>\n",
       "      <td>326.000000</td>\n",
       "      <td>3.940000</td>\n",
       "      <td>4.170000</td>\n",
       "      <td>...</td>\n",
       "      <td>4.000000</td>\n",
       "      <td>12.000000</td>\n",
       "      <td>1.000000</td>\n",
       "      <td>1.000000</td>\n",
       "      <td>1.000000</td>\n",
       "      <td>1.000000</td>\n",
       "      <td>1.000000</td>\n",
       "      <td>1.000000</td>\n",
       "      <td>1.000000</td>\n",
       "      <td>21.000000</td>\n",
       "    </tr>\n",
       "  </tbody>\n",
       "</table>\n",
       "<p>8 rows × 25 columns</p>\n",
       "</div>"
      ],
      "text/plain": [
       "        symboling  normalizedlosses  wheel-base      length       width  \\\n",
       "count  197.000000        197.000000  197.000000  197.000000  197.000000   \n",
       "mean     0.842640        120.127050   98.866497  174.324365   65.915736   \n",
       "std      1.265963         29.391750    6.101313   12.372840    2.108318   \n",
       "min     -2.000000         65.000000   86.600000  141.100000   60.300000   \n",
       "25%      0.000000         98.000000   94.500000  166.800000   64.200000   \n",
       "50%      1.000000        121.840491   97.000000  173.200000   65.500000   \n",
       "75%      2.000000        134.000000  102.400000  183.500000   66.900000   \n",
       "max      3.000000        197.000000  120.900000  208.100000   72.000000   \n",
       "\n",
       "           height  curb-weight  engine-size        bore      stroke  ...  \\\n",
       "count  197.000000   197.000000   197.000000  197.000000  197.000000  ...   \n",
       "mean    53.785787  2560.862944   127.340102    3.332882    3.257321  ...   \n",
       "std      2.456292   521.077834    41.812276    0.269743    0.318472  ...   \n",
       "min     47.800000  1488.000000    61.000000    2.540000    2.070000  ...   \n",
       "25%     52.000000  2145.000000    97.000000    3.150000    3.120000  ...   \n",
       "50%     54.100000  2420.000000   120.000000    3.330000    3.290000  ...   \n",
       "75%     55.600000  2935.000000   145.000000    3.590000    3.410000  ...   \n",
       "max     59.800000  4066.000000   326.000000    3.940000    4.170000  ...   \n",
       "\n",
       "       num-of-doors  num-of-cylinders  body_hardtop  body_hatchback  \\\n",
       "count    197.000000        197.000000    197.000000      197.000000   \n",
       "mean       3.147208          4.370558      0.040609        0.340102   \n",
       "std        0.991626          1.068924      0.197886        0.474950   \n",
       "min        2.000000          2.000000      0.000000        0.000000   \n",
       "25%        2.000000          4.000000      0.000000        0.000000   \n",
       "50%        4.000000          4.000000      0.000000        0.000000   \n",
       "75%        4.000000          4.000000      0.000000        1.000000   \n",
       "max        4.000000         12.000000      1.000000        1.000000   \n",
       "\n",
       "       body_sedan  body_wagon   drive_fwd   drive_rwd    OHC_Code   make_code  \n",
       "count  197.000000  197.000000  197.000000  197.000000  197.000000  197.000000  \n",
       "mean     0.461929    0.126904    0.588832    0.370558    0.918782   12.294416  \n",
       "std      0.499819    0.333713    0.493299    0.484185    0.273866    6.244558  \n",
       "min      0.000000    0.000000    0.000000    0.000000    0.000000    0.000000  \n",
       "25%      0.000000    0.000000    0.000000    0.000000    1.000000    8.000000  \n",
       "50%      0.000000    0.000000    1.000000    0.000000    1.000000   12.000000  \n",
       "75%      1.000000    0.000000    1.000000    1.000000    1.000000   19.000000  \n",
       "max      1.000000    1.000000    1.000000    1.000000    1.000000   21.000000  \n",
       "\n",
       "[8 rows x 25 columns]"
      ]
     },
     "execution_count": 39,
     "metadata": {},
     "output_type": "execute_result"
    }
   ],
   "source": [
    "# Taking all independent variable columns\n",
    "df_train_x = feed.drop('price',axis = 1)\n",
    "df_train_x.describe()"
   ]
  },
  {
   "cell_type": "code",
   "execution_count": 40,
   "id": "designing-holocaust",
   "metadata": {
    "execution": {
     "iopub.execute_input": "2021-05-06T07:19:20.005837Z",
     "iopub.status.busy": "2021-05-06T07:19:20.004880Z",
     "iopub.status.idle": "2021-05-06T07:19:20.009177Z",
     "shell.execute_reply": "2021-05-06T07:19:20.008623Z"
    },
    "papermill": {
     "duration": 0.103304,
     "end_time": "2021-05-06T07:19:20.009317",
     "exception": false,
     "start_time": "2021-05-06T07:19:19.906013",
     "status": "completed"
    },
    "tags": []
   },
   "outputs": [
    {
     "data": {
      "text/plain": [
       "<bound method NDFrame.describe of 0      13495.0\n",
       "1      16500.0\n",
       "2      16500.0\n",
       "3      13950.0\n",
       "4      17450.0\n",
       "        ...   \n",
       "200    16845.0\n",
       "201    19045.0\n",
       "202    21485.0\n",
       "203    22470.0\n",
       "204    22625.0\n",
       "Name: price, Length: 197, dtype: float64>"
      ]
     },
     "execution_count": 40,
     "metadata": {},
     "output_type": "execute_result"
    }
   ],
   "source": [
    "# Target variable column\n",
    "df_train_y = feed['price']\n",
    "df_train_y.describe"
   ]
  },
  {
   "cell_type": "markdown",
   "id": "opposed-thinking",
   "metadata": {
    "papermill": {
     "duration": 0.091904,
     "end_time": "2021-05-06T07:19:20.194862",
     "exception": false,
     "start_time": "2021-05-06T07:19:20.102958",
     "status": "completed"
    },
    "tags": []
   },
   "source": [
    "## (b) Splitting of Training & Testing sets"
   ]
  },
  {
   "cell_type": "code",
   "execution_count": 41,
   "id": "weighted-installation",
   "metadata": {
    "execution": {
     "iopub.execute_input": "2021-05-06T07:19:20.389507Z",
     "iopub.status.busy": "2021-05-06T07:19:20.388536Z",
     "iopub.status.idle": "2021-05-06T07:19:20.391558Z",
     "shell.execute_reply": "2021-05-06T07:19:20.391022Z"
    },
    "papermill": {
     "duration": 0.102399,
     "end_time": "2021-05-06T07:19:20.391688",
     "exception": false,
     "start_time": "2021-05-06T07:19:20.289289",
     "status": "completed"
    },
    "tags": []
   },
   "outputs": [],
   "source": [
    "x_train, x_test, y_train, y_test = train_test_split(df_train_x, df_train_y, test_size=0.3, random_state=42)"
   ]
  },
  {
   "cell_type": "code",
   "execution_count": 42,
   "id": "157bca0c",
   "metadata": {},
   "outputs": [],
   "source": [
    "np.random.seed(42)\n",
    "models = [ LinearRegression(), GradientBoostingRegressor(), \n",
    "          Ridge(), Lasso(), RandomForestRegressor()]"
   ]
  },
  {
   "cell_type": "code",
   "execution_count": 43,
   "id": "3134f679",
   "metadata": {},
   "outputs": [
    {
     "data": {
      "text/plain": [
       "{LinearRegression(): 88.96,\n",
       " GradientBoostingRegressor(): 92.95,\n",
       " Ridge(): 88.57,\n",
       " Lasso(): 88.92,\n",
       " RandomForestRegressor(): 91.64}"
      ]
     },
     "execution_count": 43,
     "metadata": {},
     "output_type": "execute_result"
    }
   ],
   "source": [
    "results= {}\n",
    "for model in models:\n",
    "    reg = model.fit(x_train, y_train)\n",
    "    predictions = reg.predict(x_test)\n",
    "    results[model] = round(r2_score(y_test, predictions)*100,2)    \n",
    "results"
   ]
  },
  {
   "cell_type": "code",
   "execution_count": 44,
   "id": "9540859d",
   "metadata": {},
   "outputs": [
    {
     "data": {
      "text/plain": [
       "<AxesSubplot:xlabel='price'>"
      ]
     },
     "execution_count": 44,
     "metadata": {},
     "output_type": "execute_result"
    },
    {
     "data": {
      "image/png": "[encoded data removed]",
      "text/plain": [
       "<Figure size 432x288 with 1 Axes>"
      ]
     },
     "metadata": {
      "needs_background": "light"
     },
     "output_type": "display_data"
    }
   ],
   "source": [
    "sns.regplot(x = y_test, y = predictions)"
   ]
  },
  {
   "cell_type": "markdown",
   "id": "announced-delaware",
   "metadata": {
    "papermill": {
     "duration": 0.097102,
     "end_time": "2021-05-06T07:19:23.498879",
     "exception": false,
     "start_time": "2021-05-06T07:19:23.401777",
     "status": "completed"
    },
    "tags": []
   },
   "source": [
    "## Gradient Boosting Regressor with r2 score of 0.93 performed better than other regression models"
   ]
  },
  {
   "cell_type": "code",
   "execution_count": null,
   "id": "3f751310",
   "metadata": {},
   "outputs": [],
   "source": []
  }
 ],
 "metadata": {
  "kernelspec": {
   "display_name": "Python 3",
   "language": "python",
   "name": "python3"
  },
  "language_info": {
   "codemirror_mode": {
    "name": "ipython",
    "version": 3
   },
   "file_extension": ".py",
   "mimetype": "text/x-python",
   "name": "python",
   "nbconvert_exporter": "python",
   "pygments_lexer": "ipython3",
   "version": "3.8.8"
  },
  "papermill": {
   "default_parameters": {},
   "duration": 32.910795,
   "end_time": "2021-05-06T07:19:24.406595",
   "environment_variables": {},
   "exception": null,
   "input_path": "__notebook__.ipynb",
   "output_path": "__notebook__.ipynb",
   "parameters": {},
   "start_time": "2021-05-06T07:18:51.495800",
   "version": "2.3.3"
  }
 },
 "nbformat": 4,
 "nbformat_minor": 5
}
